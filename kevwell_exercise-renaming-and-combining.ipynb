{
 "cells": [
  {
   "cell_type": "markdown",
   "id": "90e17338",
   "metadata": {
    "papermill": {
     "duration": 0.01042,
     "end_time": "2022-05-31T07:46:35.111207",
     "exception": false,
     "start_time": "2022-05-31T07:46:35.100787",
     "status": "completed"
    },
    "tags": []
   },
   "source": [
    "**This notebook is an exercise in the [Pandas](https://www.kaggle.com/learn/pandas) course.  You can reference the tutorial at [this link](https://www.kaggle.com/residentmario/renaming-and-combining).**\n",
    "\n",
    "---\n"
   ]
  },
  {
   "cell_type": "markdown",
   "id": "dce02dcb",
   "metadata": {
    "papermill": {
     "duration": 0.005794,
     "end_time": "2022-05-31T07:46:35.123362",
     "exception": false,
     "start_time": "2022-05-31T07:46:35.117568",
     "status": "completed"
    },
    "tags": []
   },
   "source": [
    "# Introduction\n",
    "\n",
    "Run the following cell to load your data and some utility functions."
   ]
  },
  {
   "cell_type": "code",
   "execution_count": 1,
   "id": "d4d8443d",
   "metadata": {
    "execution": {
     "iopub.execute_input": "2022-05-31T07:46:35.138236Z",
     "iopub.status.busy": "2022-05-31T07:46:35.137513Z",
     "iopub.status.idle": "2022-05-31T07:46:39.487697Z",
     "shell.execute_reply": "2022-05-31T07:46:39.486786Z"
    },
    "papermill": {
     "duration": 4.361225,
     "end_time": "2022-05-31T07:46:39.491015",
     "exception": false,
     "start_time": "2022-05-31T07:46:35.129790",
     "status": "completed"
    },
    "tags": []
   },
   "outputs": [
    {
     "name": "stdout",
     "output_type": "stream",
     "text": [
      "Setup complete.\n"
     ]
    }
   ],
   "source": [
    "import pandas as pd\n",
    "\n",
    "reviews = pd.read_csv(\"../input/wine-reviews/winemag-data-130k-v2.csv\", index_col=0)\n",
    "\n",
    "from learntools.core import binder; binder.bind(globals())\n",
    "from learntools.pandas.renaming_and_combining import *\n",
    "print(\"Setup complete.\")"
   ]
  },
  {
   "cell_type": "markdown",
   "id": "608d594a",
   "metadata": {
    "papermill": {
     "duration": 0.006179,
     "end_time": "2022-05-31T07:46:39.503645",
     "exception": false,
     "start_time": "2022-05-31T07:46:39.497466",
     "status": "completed"
    },
    "tags": []
   },
   "source": [
    "# Exercises\n",
    "\n",
    "View the first several lines of your data by running the cell below:"
   ]
  },
  {
   "cell_type": "code",
   "execution_count": 2,
   "id": "859d07d7",
   "metadata": {
    "execution": {
     "iopub.execute_input": "2022-05-31T07:46:39.518326Z",
     "iopub.status.busy": "2022-05-31T07:46:39.517903Z",
     "iopub.status.idle": "2022-05-31T07:46:39.548005Z",
     "shell.execute_reply": "2022-05-31T07:46:39.546833Z"
    },
    "papermill": {
     "duration": 0.040446,
     "end_time": "2022-05-31T07:46:39.550435",
     "exception": false,
     "start_time": "2022-05-31T07:46:39.509989",
     "status": "completed"
    },
    "tags": []
   },
   "outputs": [
    {
     "data": {
      "text/html": [
       "<div>\n",
       "<style scoped>\n",
       "    .dataframe tbody tr th:only-of-type {\n",
       "        vertical-align: middle;\n",
       "    }\n",
       "\n",
       "    .dataframe tbody tr th {\n",
       "        vertical-align: top;\n",
       "    }\n",
       "\n",
       "    .dataframe thead th {\n",
       "        text-align: right;\n",
       "    }\n",
       "</style>\n",
       "<table border=\"1\" class=\"dataframe\">\n",
       "  <thead>\n",
       "    <tr style=\"text-align: right;\">\n",
       "      <th></th>\n",
       "      <th>country</th>\n",
       "      <th>description</th>\n",
       "      <th>designation</th>\n",
       "      <th>points</th>\n",
       "      <th>price</th>\n",
       "      <th>province</th>\n",
       "      <th>region_1</th>\n",
       "      <th>region_2</th>\n",
       "      <th>taster_name</th>\n",
       "      <th>taster_twitter_handle</th>\n",
       "      <th>title</th>\n",
       "      <th>variety</th>\n",
       "      <th>winery</th>\n",
       "    </tr>\n",
       "  </thead>\n",
       "  <tbody>\n",
       "    <tr>\n",
       "      <th>0</th>\n",
       "      <td>Italy</td>\n",
       "      <td>Aromas include tropical fruit, broom, brimston...</td>\n",
       "      <td>Vulkà Bianco</td>\n",
       "      <td>87</td>\n",
       "      <td>NaN</td>\n",
       "      <td>Sicily &amp; Sardinia</td>\n",
       "      <td>Etna</td>\n",
       "      <td>NaN</td>\n",
       "      <td>Kerin O’Keefe</td>\n",
       "      <td>@kerinokeefe</td>\n",
       "      <td>Nicosia 2013 Vulkà Bianco  (Etna)</td>\n",
       "      <td>White Blend</td>\n",
       "      <td>Nicosia</td>\n",
       "    </tr>\n",
       "    <tr>\n",
       "      <th>1</th>\n",
       "      <td>Portugal</td>\n",
       "      <td>This is ripe and fruity, a wine that is smooth...</td>\n",
       "      <td>Avidagos</td>\n",
       "      <td>87</td>\n",
       "      <td>15.0</td>\n",
       "      <td>Douro</td>\n",
       "      <td>NaN</td>\n",
       "      <td>NaN</td>\n",
       "      <td>Roger Voss</td>\n",
       "      <td>@vossroger</td>\n",
       "      <td>Quinta dos Avidagos 2011 Avidagos Red (Douro)</td>\n",
       "      <td>Portuguese Red</td>\n",
       "      <td>Quinta dos Avidagos</td>\n",
       "    </tr>\n",
       "    <tr>\n",
       "      <th>2</th>\n",
       "      <td>US</td>\n",
       "      <td>Tart and snappy, the flavors of lime flesh and...</td>\n",
       "      <td>NaN</td>\n",
       "      <td>87</td>\n",
       "      <td>14.0</td>\n",
       "      <td>Oregon</td>\n",
       "      <td>Willamette Valley</td>\n",
       "      <td>Willamette Valley</td>\n",
       "      <td>Paul Gregutt</td>\n",
       "      <td>@paulgwine</td>\n",
       "      <td>Rainstorm 2013 Pinot Gris (Willamette Valley)</td>\n",
       "      <td>Pinot Gris</td>\n",
       "      <td>Rainstorm</td>\n",
       "    </tr>\n",
       "    <tr>\n",
       "      <th>3</th>\n",
       "      <td>US</td>\n",
       "      <td>Pineapple rind, lemon pith and orange blossom ...</td>\n",
       "      <td>Reserve Late Harvest</td>\n",
       "      <td>87</td>\n",
       "      <td>13.0</td>\n",
       "      <td>Michigan</td>\n",
       "      <td>Lake Michigan Shore</td>\n",
       "      <td>NaN</td>\n",
       "      <td>Alexander Peartree</td>\n",
       "      <td>NaN</td>\n",
       "      <td>St. Julian 2013 Reserve Late Harvest Riesling ...</td>\n",
       "      <td>Riesling</td>\n",
       "      <td>St. Julian</td>\n",
       "    </tr>\n",
       "    <tr>\n",
       "      <th>4</th>\n",
       "      <td>US</td>\n",
       "      <td>Much like the regular bottling from 2012, this...</td>\n",
       "      <td>Vintner's Reserve Wild Child Block</td>\n",
       "      <td>87</td>\n",
       "      <td>65.0</td>\n",
       "      <td>Oregon</td>\n",
       "      <td>Willamette Valley</td>\n",
       "      <td>Willamette Valley</td>\n",
       "      <td>Paul Gregutt</td>\n",
       "      <td>@paulgwine</td>\n",
       "      <td>Sweet Cheeks 2012 Vintner's Reserve Wild Child...</td>\n",
       "      <td>Pinot Noir</td>\n",
       "      <td>Sweet Cheeks</td>\n",
       "    </tr>\n",
       "  </tbody>\n",
       "</table>\n",
       "</div>"
      ],
      "text/plain": [
       "    country                                        description  \\\n",
       "0     Italy  Aromas include tropical fruit, broom, brimston...   \n",
       "1  Portugal  This is ripe and fruity, a wine that is smooth...   \n",
       "2        US  Tart and snappy, the flavors of lime flesh and...   \n",
       "3        US  Pineapple rind, lemon pith and orange blossom ...   \n",
       "4        US  Much like the regular bottling from 2012, this...   \n",
       "\n",
       "                          designation  points  price           province  \\\n",
       "0                        Vulkà Bianco      87    NaN  Sicily & Sardinia   \n",
       "1                            Avidagos      87   15.0              Douro   \n",
       "2                                 NaN      87   14.0             Oregon   \n",
       "3                Reserve Late Harvest      87   13.0           Michigan   \n",
       "4  Vintner's Reserve Wild Child Block      87   65.0             Oregon   \n",
       "\n",
       "              region_1           region_2         taster_name  \\\n",
       "0                 Etna                NaN       Kerin O’Keefe   \n",
       "1                  NaN                NaN          Roger Voss   \n",
       "2    Willamette Valley  Willamette Valley        Paul Gregutt   \n",
       "3  Lake Michigan Shore                NaN  Alexander Peartree   \n",
       "4    Willamette Valley  Willamette Valley        Paul Gregutt   \n",
       "\n",
       "  taster_twitter_handle                                              title  \\\n",
       "0          @kerinokeefe                  Nicosia 2013 Vulkà Bianco  (Etna)   \n",
       "1            @vossroger      Quinta dos Avidagos 2011 Avidagos Red (Douro)   \n",
       "2           @paulgwine       Rainstorm 2013 Pinot Gris (Willamette Valley)   \n",
       "3                   NaN  St. Julian 2013 Reserve Late Harvest Riesling ...   \n",
       "4           @paulgwine   Sweet Cheeks 2012 Vintner's Reserve Wild Child...   \n",
       "\n",
       "          variety               winery  \n",
       "0     White Blend              Nicosia  \n",
       "1  Portuguese Red  Quinta dos Avidagos  \n",
       "2      Pinot Gris            Rainstorm  \n",
       "3        Riesling           St. Julian  \n",
       "4      Pinot Noir         Sweet Cheeks  "
      ]
     },
     "execution_count": 2,
     "metadata": {},
     "output_type": "execute_result"
    }
   ],
   "source": [
    "reviews.head()"
   ]
  },
  {
   "cell_type": "markdown",
   "id": "b2e893d4",
   "metadata": {
    "papermill": {
     "duration": 0.006555,
     "end_time": "2022-05-31T07:46:39.563853",
     "exception": false,
     "start_time": "2022-05-31T07:46:39.557298",
     "status": "completed"
    },
    "tags": []
   },
   "source": [
    "## 1.\n",
    "`region_1` and `region_2` are pretty uninformative names for locale columns in the dataset. Create a copy of `reviews` with these columns renamed to `region` and `locale`, respectively."
   ]
  },
  {
   "cell_type": "code",
   "execution_count": 3,
   "id": "9ff3db80",
   "metadata": {
    "execution": {
     "iopub.execute_input": "2022-05-31T07:46:39.579417Z",
     "iopub.status.busy": "2022-05-31T07:46:39.578994Z",
     "iopub.status.idle": "2022-05-31T07:46:39.615308Z",
     "shell.execute_reply": "2022-05-31T07:46:39.614182Z"
    },
    "papermill": {
     "duration": 0.046968,
     "end_time": "2022-05-31T07:46:39.617746",
     "exception": false,
     "start_time": "2022-05-31T07:46:39.570778",
     "status": "completed"
    },
    "tags": []
   },
   "outputs": [
    {
     "data": {
      "application/javascript": [
       "parent.postMessage({\"jupyterEvent\": \"custom.exercise_interaction\", \"data\": {\"outcomeType\": 1, \"valueTowardsCompletion\": 0.25, \"interactionType\": 1, \"questionType\": 1, \"questionId\": \"1_RenameCols\", \"learnToolsVersion\": \"0.3.4\", \"failureMessage\": \"\", \"exceptionClass\": \"\", \"trace\": \"\"}}, \"*\")"
      ],
      "text/plain": [
       "<IPython.core.display.Javascript object>"
      ]
     },
     "metadata": {},
     "output_type": "display_data"
    },
    {
     "data": {
      "text/markdown": [
       "<span style=\"color:#33cc33\">Correct</span>"
      ],
      "text/plain": [
       "Correct"
      ]
     },
     "metadata": {},
     "output_type": "display_data"
    }
   ],
   "source": [
    "# Your code here\n",
    "renamed = reviews.rename(columns={'region_1': 'region', 'region_2': 'locale'})\n",
    "\n",
    "# Check your answer\n",
    "q1.check()"
   ]
  },
  {
   "cell_type": "code",
   "execution_count": 4,
   "id": "999bc993",
   "metadata": {
    "execution": {
     "iopub.execute_input": "2022-05-31T07:46:39.634864Z",
     "iopub.status.busy": "2022-05-31T07:46:39.634346Z",
     "iopub.status.idle": "2022-05-31T07:46:39.638994Z",
     "shell.execute_reply": "2022-05-31T07:46:39.637889Z"
    },
    "papermill": {
     "duration": 0.016143,
     "end_time": "2022-05-31T07:46:39.641275",
     "exception": false,
     "start_time": "2022-05-31T07:46:39.625132",
     "status": "completed"
    },
    "tags": []
   },
   "outputs": [],
   "source": [
    "#q1.hint()\n",
    "#q1.solution()"
   ]
  },
  {
   "cell_type": "markdown",
   "id": "27b481d8",
   "metadata": {
    "papermill": {
     "duration": 0.006443,
     "end_time": "2022-05-31T07:46:39.654720",
     "exception": false,
     "start_time": "2022-05-31T07:46:39.648277",
     "status": "completed"
    },
    "tags": []
   },
   "source": [
    "## 2.\n",
    "Set the index name in the dataset to `wines`."
   ]
  },
  {
   "cell_type": "code",
   "execution_count": 5,
   "id": "7cdd0fcb",
   "metadata": {
    "execution": {
     "iopub.execute_input": "2022-05-31T07:46:39.670246Z",
     "iopub.status.busy": "2022-05-31T07:46:39.669742Z",
     "iopub.status.idle": "2022-05-31T07:46:39.706976Z",
     "shell.execute_reply": "2022-05-31T07:46:39.706182Z"
    },
    "papermill": {
     "duration": 0.047405,
     "end_time": "2022-05-31T07:46:39.708816",
     "exception": false,
     "start_time": "2022-05-31T07:46:39.661411",
     "status": "completed"
    },
    "tags": []
   },
   "outputs": [
    {
     "data": {
      "application/javascript": [
       "parent.postMessage({\"jupyterEvent\": \"custom.exercise_interaction\", \"data\": {\"outcomeType\": 1, \"valueTowardsCompletion\": 0.25, \"interactionType\": 1, \"questionType\": 1, \"questionId\": \"2_RenameIndex\", \"learnToolsVersion\": \"0.3.4\", \"failureMessage\": \"\", \"exceptionClass\": \"\", \"trace\": \"\"}}, \"*\")"
      ],
      "text/plain": [
       "<IPython.core.display.Javascript object>"
      ]
     },
     "metadata": {},
     "output_type": "display_data"
    },
    {
     "data": {
      "text/markdown": [
       "<span style=\"color:#33cc33\">Correct</span>"
      ],
      "text/plain": [
       "Correct"
      ]
     },
     "metadata": {},
     "output_type": "display_data"
    }
   ],
   "source": [
    "reindexed = reviews.rename_axis(\"wines\", axis='rows')\n",
    "\n",
    "# Check your answer\n",
    "q2.check()"
   ]
  },
  {
   "cell_type": "code",
   "execution_count": 6,
   "id": "fe1b2522",
   "metadata": {
    "execution": {
     "iopub.execute_input": "2022-05-31T07:46:39.724835Z",
     "iopub.status.busy": "2022-05-31T07:46:39.724232Z",
     "iopub.status.idle": "2022-05-31T07:46:39.728131Z",
     "shell.execute_reply": "2022-05-31T07:46:39.727240Z"
    },
    "papermill": {
     "duration": 0.014346,
     "end_time": "2022-05-31T07:46:39.729961",
     "exception": false,
     "start_time": "2022-05-31T07:46:39.715615",
     "status": "completed"
    },
    "tags": []
   },
   "outputs": [],
   "source": [
    "#q2.hint()\n",
    "#q2.solution()"
   ]
  },
  {
   "cell_type": "markdown",
   "id": "e8bc1577",
   "metadata": {
    "papermill": {
     "duration": 0.006539,
     "end_time": "2022-05-31T07:46:39.743354",
     "exception": false,
     "start_time": "2022-05-31T07:46:39.736815",
     "status": "completed"
    },
    "tags": []
   },
   "source": [
    "## 3.\n",
    "The [Things on Reddit](https://www.kaggle.com/residentmario/things-on-reddit/data) dataset includes product links from a selection of top-ranked forums (\"subreddits\") on reddit.com. Run the cell below to load a dataframe of products mentioned on the */r/gaming* subreddit and another dataframe for products mentioned on the *r//movies* subreddit."
   ]
  },
  {
   "cell_type": "markdown",
   "id": "7bb34ea9",
   "metadata": {
    "papermill": {
     "duration": 0.006636,
     "end_time": "2022-05-31T07:46:39.756771",
     "exception": false,
     "start_time": "2022-05-31T07:46:39.750135",
     "status": "completed"
    },
    "tags": []
   },
   "source": [
    "Create a `DataFrame` of products mentioned on *either* subreddit."
   ]
  },
  {
   "cell_type": "code",
   "execution_count": 7,
   "id": "487bb784",
   "metadata": {
    "execution": {
     "iopub.execute_input": "2022-05-31T07:46:39.772714Z",
     "iopub.status.busy": "2022-05-31T07:46:39.771787Z",
     "iopub.status.idle": "2022-05-31T07:46:39.788478Z",
     "shell.execute_reply": "2022-05-31T07:46:39.787675Z"
    },
    "papermill": {
     "duration": 0.027371,
     "end_time": "2022-05-31T07:46:39.790930",
     "exception": false,
     "start_time": "2022-05-31T07:46:39.763559",
     "status": "completed"
    },
    "tags": []
   },
   "outputs": [],
   "source": [
    "gaming_products = pd.read_csv(\"../input/things-on-reddit/top-things/top-things/reddits/g/gaming.csv\")\n",
    "gaming_products['subreddit'] = \"r/gaming\"\n",
    "movie_products = pd.read_csv(\"../input/things-on-reddit/top-things/top-things/reddits/m/movies.csv\")\n",
    "movie_products['subreddit'] = \"r/movies\""
   ]
  },
  {
   "cell_type": "code",
   "execution_count": 8,
   "id": "e864c442",
   "metadata": {
    "execution": {
     "iopub.execute_input": "2022-05-31T07:46:39.807355Z",
     "iopub.status.busy": "2022-05-31T07:46:39.806742Z",
     "iopub.status.idle": "2022-05-31T07:46:39.820135Z",
     "shell.execute_reply": "2022-05-31T07:46:39.819316Z"
    },
    "papermill": {
     "duration": 0.023711,
     "end_time": "2022-05-31T07:46:39.821948",
     "exception": false,
     "start_time": "2022-05-31T07:46:39.798237",
     "status": "completed"
    },
    "tags": []
   },
   "outputs": [
    {
     "data": {
      "application/javascript": [
       "parent.postMessage({\"jupyterEvent\": \"custom.exercise_interaction\", \"data\": {\"outcomeType\": 1, \"valueTowardsCompletion\": 0.25, \"interactionType\": 1, \"questionType\": 2, \"questionId\": \"3_ConcatReddit\", \"learnToolsVersion\": \"0.3.4\", \"failureMessage\": \"\", \"exceptionClass\": \"\", \"trace\": \"\"}}, \"*\")"
      ],
      "text/plain": [
       "<IPython.core.display.Javascript object>"
      ]
     },
     "metadata": {},
     "output_type": "display_data"
    },
    {
     "data": {
      "text/markdown": [
       "<span style=\"color:#33cc33\">Correct</span>"
      ],
      "text/plain": [
       "Correct"
      ]
     },
     "metadata": {},
     "output_type": "display_data"
    }
   ],
   "source": [
    "combined_products = pd.concat([gaming_products, movie_products])\n",
    "\n",
    "# Check your answer\n",
    "q3.check()"
   ]
  },
  {
   "cell_type": "code",
   "execution_count": 9,
   "id": "fce430f5",
   "metadata": {
    "execution": {
     "iopub.execute_input": "2022-05-31T07:46:39.838825Z",
     "iopub.status.busy": "2022-05-31T07:46:39.838162Z",
     "iopub.status.idle": "2022-05-31T07:46:39.841843Z",
     "shell.execute_reply": "2022-05-31T07:46:39.841007Z"
    },
    "papermill": {
     "duration": 0.014782,
     "end_time": "2022-05-31T07:46:39.843750",
     "exception": false,
     "start_time": "2022-05-31T07:46:39.828968",
     "status": "completed"
    },
    "tags": []
   },
   "outputs": [],
   "source": [
    "#q3.hint()\n",
    "#q3.solution()"
   ]
  },
  {
   "cell_type": "markdown",
   "id": "c8eccfec",
   "metadata": {
    "papermill": {
     "duration": 0.006856,
     "end_time": "2022-05-31T07:46:39.857661",
     "exception": false,
     "start_time": "2022-05-31T07:46:39.850805",
     "status": "completed"
    },
    "tags": []
   },
   "source": [
    "## 4.\n",
    "The [Powerlifting Database](https://www.kaggle.com/open-powerlifting/powerlifting-database) dataset on Kaggle includes one CSV table for powerlifting meets and a separate one for powerlifting competitors. Run the cell below to load these datasets into dataframes:"
   ]
  },
  {
   "cell_type": "code",
   "execution_count": 10,
   "id": "f02d891f",
   "metadata": {
    "execution": {
     "iopub.execute_input": "2022-05-31T07:46:39.874394Z",
     "iopub.status.busy": "2022-05-31T07:46:39.873747Z",
     "iopub.status.idle": "2022-05-31T07:46:40.818717Z",
     "shell.execute_reply": "2022-05-31T07:46:40.817931Z"
    },
    "papermill": {
     "duration": 0.956631,
     "end_time": "2022-05-31T07:46:40.821436",
     "exception": false,
     "start_time": "2022-05-31T07:46:39.864805",
     "status": "completed"
    },
    "tags": []
   },
   "outputs": [],
   "source": [
    "powerlifting_meets = pd.read_csv(\"../input/powerlifting-database/meets.csv\")\n",
    "powerlifting_competitors = pd.read_csv(\"../input/powerlifting-database/openpowerlifting.csv\")"
   ]
  },
  {
   "cell_type": "markdown",
   "id": "6723049b",
   "metadata": {
    "papermill": {
     "duration": 0.007751,
     "end_time": "2022-05-31T07:46:40.837518",
     "exception": false,
     "start_time": "2022-05-31T07:46:40.829767",
     "status": "completed"
    },
    "tags": []
   },
   "source": [
    "Both tables include references to a `MeetID`, a unique key for each meet (competition) included in the database. Using this, generate a dataset combining the two tables into one."
   ]
  },
  {
   "cell_type": "code",
   "execution_count": 11,
   "id": "34965689",
   "metadata": {
    "execution": {
     "iopub.execute_input": "2022-05-31T07:46:40.855222Z",
     "iopub.status.busy": "2022-05-31T07:46:40.854601Z",
     "iopub.status.idle": "2022-05-31T07:46:42.074655Z",
     "shell.execute_reply": "2022-05-31T07:46:42.073300Z"
    },
    "papermill": {
     "duration": 1.231781,
     "end_time": "2022-05-31T07:46:42.077032",
     "exception": false,
     "start_time": "2022-05-31T07:46:40.845251",
     "status": "completed"
    },
    "tags": []
   },
   "outputs": [
    {
     "data": {
      "application/javascript": [
       "parent.postMessage({\"jupyterEvent\": \"custom.exercise_interaction\", \"data\": {\"outcomeType\": 1, \"valueTowardsCompletion\": 0.25, \"interactionType\": 1, \"questionType\": 2, \"questionId\": \"4_JoinLifting\", \"learnToolsVersion\": \"0.3.4\", \"failureMessage\": \"\", \"exceptionClass\": \"\", \"trace\": \"\"}}, \"*\")"
      ],
      "text/plain": [
       "<IPython.core.display.Javascript object>"
      ]
     },
     "metadata": {},
     "output_type": "display_data"
    },
    {
     "data": {
      "text/markdown": [
       "<span style=\"color:#33cc33\">Correct</span>"
      ],
      "text/plain": [
       "Correct"
      ]
     },
     "metadata": {},
     "output_type": "display_data"
    }
   ],
   "source": [
    "powerlifting_combined = powerlifting_meets.set_index(\"MeetID\").join(powerlifting_competitors.set_index(\"MeetID\"))\n",
    "\n",
    "# Check your answer\n",
    "q4.check()"
   ]
  },
  {
   "cell_type": "code",
   "execution_count": 12,
   "id": "ab97c744",
   "metadata": {
    "execution": {
     "iopub.execute_input": "2022-05-31T07:46:42.094761Z",
     "iopub.status.busy": "2022-05-31T07:46:42.094261Z",
     "iopub.status.idle": "2022-05-31T07:46:42.099148Z",
     "shell.execute_reply": "2022-05-31T07:46:42.098078Z"
    },
    "papermill": {
     "duration": 0.016292,
     "end_time": "2022-05-31T07:46:42.101163",
     "exception": false,
     "start_time": "2022-05-31T07:46:42.084871",
     "status": "completed"
    },
    "tags": []
   },
   "outputs": [],
   "source": [
    "#q4.hint()\n",
    "#q4.solution()"
   ]
  },
  {
   "cell_type": "markdown",
   "id": "45a3f730",
   "metadata": {
    "papermill": {
     "duration": 0.007778,
     "end_time": "2022-05-31T07:46:42.116880",
     "exception": false,
     "start_time": "2022-05-31T07:46:42.109102",
     "status": "completed"
    },
    "tags": []
   },
   "source": [
    "# Congratulations!\n",
    "\n",
    "You've finished the Pandas micro-course.  Many data scientists feel efficiency with Pandas is the most useful and practical skill they have, because it allows you to progress quickly in any project you have.\n",
    "\n",
    "If you'd like to apply your new skills to examining geospatial data, you're encouraged to check out our **[Geospatial Analysis](https://www.kaggle.com/learn/geospatial-analysis)** micro-course.\n",
    "\n",
    "You can also take advantage of your Pandas skills by entering a **[Kaggle Competition](https://www.kaggle.com/competitions)** or by answering a question you find interesting using **[Kaggle Datasets](https://www.kaggle.com/datasets)**."
   ]
  },
  {
   "cell_type": "markdown",
   "id": "d1d2bca8",
   "metadata": {
    "papermill": {
     "duration": 0.008688,
     "end_time": "2022-05-31T07:46:42.136605",
     "exception": false,
     "start_time": "2022-05-31T07:46:42.127917",
     "status": "completed"
    },
    "tags": []
   },
   "source": [
    "---\n",
    "\n",
    "\n",
    "\n",
    "\n",
    "*Have questions or comments? Visit the [course discussion forum](https://www.kaggle.com/learn/pandas/discussion) to chat with other learners.*"
   ]
  }
 ],
 "metadata": {
  "kernelspec": {
   "display_name": "Python 3",
   "language": "python",
   "name": "python3"
  },
  "language_info": {
   "codemirror_mode": {
    "name": "ipython",
    "version": 3
   },
   "file_extension": ".py",
   "mimetype": "text/x-python",
   "name": "python",
   "nbconvert_exporter": "python",
   "pygments_lexer": "ipython3",
   "version": "3.7.12"
  },
  "papermill": {
   "default_parameters": {},
   "duration": 19.034974,
   "end_time": "2022-05-31T07:46:43.068638",
   "environment_variables": {},
   "exception": null,
   "input_path": "__notebook__.ipynb",
   "output_path": "__notebook__.ipynb",
   "parameters": {},
   "start_time": "2022-05-31T07:46:24.033664",
   "version": "2.3.4"
  }
 },
 "nbformat": 4,
 "nbformat_minor": 5
}
