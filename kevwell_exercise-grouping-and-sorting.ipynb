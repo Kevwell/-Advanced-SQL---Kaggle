{
 "cells": [
  {
   "cell_type": "markdown",
   "id": "021ea9c2",
   "metadata": {
    "papermill": {
     "duration": 0.010326,
     "end_time": "2022-05-31T07:53:01.234538",
     "exception": false,
     "start_time": "2022-05-31T07:53:01.224212",
     "status": "completed"
    },
    "tags": []
   },
   "source": [
    "**This notebook is an exercise in the [Pandas](https://www.kaggle.com/learn/pandas) course.  You can reference the tutorial at [this link](https://www.kaggle.com/residentmario/grouping-and-sorting).**\n",
    "\n",
    "---\n"
   ]
  },
  {
   "cell_type": "markdown",
   "id": "fe29f6de",
   "metadata": {
    "papermill": {
     "duration": 0.006272,
     "end_time": "2022-05-31T07:53:01.247726",
     "exception": false,
     "start_time": "2022-05-31T07:53:01.241454",
     "status": "completed"
    },
    "tags": []
   },
   "source": [
    "# Introduction\n",
    "\n",
    "In these exercises we'll apply groupwise analysis to our dataset.\n",
    "\n",
    "Run the code cell below to load the data before running the exercises."
   ]
  },
  {
   "cell_type": "code",
   "execution_count": 1,
   "id": "fe95e00e",
   "metadata": {
    "execution": {
     "iopub.execute_input": "2022-05-31T07:53:01.263595Z",
     "iopub.status.busy": "2022-05-31T07:53:01.262713Z",
     "iopub.status.idle": "2022-05-31T07:53:04.445559Z",
     "shell.execute_reply": "2022-05-31T07:53:04.444296Z"
    },
    "papermill": {
     "duration": 3.194015,
     "end_time": "2022-05-31T07:53:04.448443",
     "exception": false,
     "start_time": "2022-05-31T07:53:01.254428",
     "status": "completed"
    },
    "tags": []
   },
   "outputs": [
    {
     "name": "stdout",
     "output_type": "stream",
     "text": [
      "Setup complete.\n"
     ]
    }
   ],
   "source": [
    "import pandas as pd\n",
    "\n",
    "reviews = pd.read_csv(\"../input/wine-reviews/winemag-data-130k-v2.csv\", index_col=0)\n",
    "#pd.set_option(\"display.max_rows\", 5)\n",
    "\n",
    "from learntools.core import binder; binder.bind(globals())\n",
    "from learntools.pandas.grouping_and_sorting import *\n",
    "print(\"Setup complete.\")"
   ]
  },
  {
   "cell_type": "markdown",
   "id": "fe2992c5",
   "metadata": {
    "papermill": {
     "duration": 0.007511,
     "end_time": "2022-05-31T07:53:04.463064",
     "exception": false,
     "start_time": "2022-05-31T07:53:04.455553",
     "status": "completed"
    },
    "tags": []
   },
   "source": [
    "# Exercises"
   ]
  },
  {
   "cell_type": "markdown",
   "id": "5ef43c14",
   "metadata": {
    "papermill": {
     "duration": 0.007547,
     "end_time": "2022-05-31T07:53:04.477726",
     "exception": false,
     "start_time": "2022-05-31T07:53:04.470179",
     "status": "completed"
    },
    "tags": []
   },
   "source": [
    "## 1.\n",
    "Who are the most common wine reviewers in the dataset? Create a `Series` whose index is the `taster_twitter_handle` category from the dataset, and whose values count how many reviews each person wrote."
   ]
  },
  {
   "cell_type": "code",
   "execution_count": 2,
   "id": "4a35a2ae",
   "metadata": {
    "execution": {
     "iopub.execute_input": "2022-05-31T07:53:04.494576Z",
     "iopub.status.busy": "2022-05-31T07:53:04.494143Z",
     "iopub.status.idle": "2022-05-31T07:53:04.536475Z",
     "shell.execute_reply": "2022-05-31T07:53:04.535497Z"
    },
    "papermill": {
     "duration": 0.053383,
     "end_time": "2022-05-31T07:53:04.539019",
     "exception": false,
     "start_time": "2022-05-31T07:53:04.485636",
     "status": "completed"
    },
    "tags": []
   },
   "outputs": [
    {
     "data": {
      "application/javascript": [
       "parent.postMessage({\"jupyterEvent\": \"custom.exercise_interaction\", \"data\": {\"outcomeType\": 1, \"valueTowardsCompletion\": 0.16666666666666666, \"interactionType\": 1, \"questionType\": 1, \"questionId\": \"1_ReviewsWritten\", \"learnToolsVersion\": \"0.3.4\", \"failureMessage\": \"\", \"exceptionClass\": \"\", \"trace\": \"\"}}, \"*\")"
      ],
      "text/plain": [
       "<IPython.core.display.Javascript object>"
      ]
     },
     "metadata": {},
     "output_type": "display_data"
    },
    {
     "data": {
      "text/markdown": [
       "<span style=\"color:#33cc33\">Correct:</span> \n",
       "\n",
       "\n",
       "```python\n",
       "reviews_written = reviews.groupby('taster_twitter_handle').size()\n",
       "```\n",
       "or\n",
       "```python\n",
       "reviews_written = reviews.groupby('taster_twitter_handle').taster_twitter_handle.count()\n",
       "```\n"
      ],
      "text/plain": [
       "Correct: \n",
       "\n",
       "\n",
       "```python\n",
       "reviews_written = reviews.groupby('taster_twitter_handle').size()\n",
       "```\n",
       "or\n",
       "```python\n",
       "reviews_written = reviews.groupby('taster_twitter_handle').taster_twitter_handle.count()\n",
       "```"
      ]
     },
     "metadata": {},
     "output_type": "display_data"
    }
   ],
   "source": [
    "# Your code here\n",
    "reviews_written = reviews.groupby('taster_twitter_handle').taster_twitter_handle.count()\n",
    "\n",
    "# Check your answer\n",
    "q1.check()"
   ]
  },
  {
   "cell_type": "code",
   "execution_count": 3,
   "id": "2a702ad1",
   "metadata": {
    "execution": {
     "iopub.execute_input": "2022-05-31T07:53:04.555671Z",
     "iopub.status.busy": "2022-05-31T07:53:04.554797Z",
     "iopub.status.idle": "2022-05-31T07:53:04.559625Z",
     "shell.execute_reply": "2022-05-31T07:53:04.558578Z"
    },
    "papermill": {
     "duration": 0.015501,
     "end_time": "2022-05-31T07:53:04.562033",
     "exception": false,
     "start_time": "2022-05-31T07:53:04.546532",
     "status": "completed"
    },
    "tags": []
   },
   "outputs": [],
   "source": [
    "#q1.hint()\n",
    "#q1.solution()"
   ]
  },
  {
   "cell_type": "markdown",
   "id": "aad84ada",
   "metadata": {
    "papermill": {
     "duration": 0.007478,
     "end_time": "2022-05-31T07:53:04.577485",
     "exception": false,
     "start_time": "2022-05-31T07:53:04.570007",
     "status": "completed"
    },
    "tags": []
   },
   "source": [
    "## 2.\n",
    "What is the best wine I can buy for a given amount of money? Create a `Series` whose index is wine prices and whose values is the maximum number of points a wine costing that much was given in a review. Sort the values by price, ascending (so that `4.0` dollars is at the top and `3300.0` dollars is at the bottom)."
   ]
  },
  {
   "cell_type": "code",
   "execution_count": 4,
   "id": "774bb2cd",
   "metadata": {
    "execution": {
     "iopub.execute_input": "2022-05-31T07:53:04.593591Z",
     "iopub.status.busy": "2022-05-31T07:53:04.592891Z",
     "iopub.status.idle": "2022-05-31T07:53:04.606597Z",
     "shell.execute_reply": "2022-05-31T07:53:04.605653Z"
    },
    "papermill": {
     "duration": 0.024058,
     "end_time": "2022-05-31T07:53:04.608618",
     "exception": false,
     "start_time": "2022-05-31T07:53:04.584560",
     "status": "completed"
    },
    "tags": []
   },
   "outputs": [
    {
     "data": {
      "application/javascript": [
       "parent.postMessage({\"jupyterEvent\": \"custom.exercise_interaction\", \"data\": {\"outcomeType\": 1, \"valueTowardsCompletion\": 0.16666666666666666, \"interactionType\": 1, \"questionType\": 1, \"questionId\": \"2_BestRatingPerPrice\", \"learnToolsVersion\": \"0.3.4\", \"failureMessage\": \"\", \"exceptionClass\": \"\", \"trace\": \"\"}}, \"*\")"
      ],
      "text/plain": [
       "<IPython.core.display.Javascript object>"
      ]
     },
     "metadata": {},
     "output_type": "display_data"
    },
    {
     "data": {
      "text/markdown": [
       "<span style=\"color:#33cc33\">Correct</span>"
      ],
      "text/plain": [
       "Correct"
      ]
     },
     "metadata": {},
     "output_type": "display_data"
    }
   ],
   "source": [
    "best_rating_per_price = reviews.groupby('price')['points'].max().sort_index()\n",
    "\n",
    "# Check your answer\n",
    "q2.check()"
   ]
  },
  {
   "cell_type": "code",
   "execution_count": 5,
   "id": "6f489599",
   "metadata": {
    "execution": {
     "iopub.execute_input": "2022-05-31T07:53:04.626373Z",
     "iopub.status.busy": "2022-05-31T07:53:04.625640Z",
     "iopub.status.idle": "2022-05-31T07:53:04.630022Z",
     "shell.execute_reply": "2022-05-31T07:53:04.629114Z"
    },
    "papermill": {
     "duration": 0.015928,
     "end_time": "2022-05-31T07:53:04.632169",
     "exception": false,
     "start_time": "2022-05-31T07:53:04.616241",
     "status": "completed"
    },
    "tags": []
   },
   "outputs": [],
   "source": [
    "#q2.hint()\n",
    "#q2.solution()"
   ]
  },
  {
   "cell_type": "markdown",
   "id": "2f3a75d2",
   "metadata": {
    "papermill": {
     "duration": 0.007026,
     "end_time": "2022-05-31T07:53:04.646536",
     "exception": false,
     "start_time": "2022-05-31T07:53:04.639510",
     "status": "completed"
    },
    "tags": []
   },
   "source": [
    "## 3.\n",
    "What are the minimum and maximum prices for each `variety` of wine? Create a `DataFrame` whose index is the `variety` category from the dataset and whose values are the `min` and `max` values thereof."
   ]
  },
  {
   "cell_type": "code",
   "execution_count": 6,
   "id": "640323af",
   "metadata": {
    "execution": {
     "iopub.execute_input": "2022-05-31T07:53:04.663095Z",
     "iopub.status.busy": "2022-05-31T07:53:04.662525Z",
     "iopub.status.idle": "2022-05-31T07:53:04.693933Z",
     "shell.execute_reply": "2022-05-31T07:53:04.692980Z"
    },
    "papermill": {
     "duration": 0.042464,
     "end_time": "2022-05-31T07:53:04.696302",
     "exception": false,
     "start_time": "2022-05-31T07:53:04.653838",
     "status": "completed"
    },
    "tags": []
   },
   "outputs": [
    {
     "data": {
      "application/javascript": [
       "parent.postMessage({\"jupyterEvent\": \"custom.exercise_interaction\", \"data\": {\"outcomeType\": 1, \"valueTowardsCompletion\": 0.16666666666666666, \"interactionType\": 1, \"questionType\": 1, \"questionId\": \"3_PriceExtremes\", \"learnToolsVersion\": \"0.3.4\", \"failureMessage\": \"\", \"exceptionClass\": \"\", \"trace\": \"\"}}, \"*\")"
      ],
      "text/plain": [
       "<IPython.core.display.Javascript object>"
      ]
     },
     "metadata": {},
     "output_type": "display_data"
    },
    {
     "data": {
      "text/markdown": [
       "<span style=\"color:#33cc33\">Correct</span>"
      ],
      "text/plain": [
       "Correct"
      ]
     },
     "metadata": {},
     "output_type": "display_data"
    }
   ],
   "source": [
    "price_extremes = reviews.groupby('variety').price.agg([min, max])\n",
    "\n",
    "# Check your answer\n",
    "q3.check()"
   ]
  },
  {
   "cell_type": "code",
   "execution_count": 7,
   "id": "8ac927ea",
   "metadata": {
    "execution": {
     "iopub.execute_input": "2022-05-31T07:53:04.713704Z",
     "iopub.status.busy": "2022-05-31T07:53:04.713131Z",
     "iopub.status.idle": "2022-05-31T07:53:04.716918Z",
     "shell.execute_reply": "2022-05-31T07:53:04.716237Z"
    },
    "papermill": {
     "duration": 0.015227,
     "end_time": "2022-05-31T07:53:04.718907",
     "exception": false,
     "start_time": "2022-05-31T07:53:04.703680",
     "status": "completed"
    },
    "tags": []
   },
   "outputs": [],
   "source": [
    "#q3.hint()\n",
    "#q3.solution()"
   ]
  },
  {
   "cell_type": "markdown",
   "id": "8216fc3e",
   "metadata": {
    "papermill": {
     "duration": 0.007445,
     "end_time": "2022-05-31T07:53:04.734547",
     "exception": false,
     "start_time": "2022-05-31T07:53:04.727102",
     "status": "completed"
    },
    "tags": []
   },
   "source": [
    "## 4.\n",
    "What are the most expensive wine varieties? Create a variable `sorted_varieties` containing a copy of the dataframe from the previous question where varieties are sorted in descending order based on minimum price, then on maximum price (to break ties)."
   ]
  },
  {
   "cell_type": "code",
   "execution_count": 8,
   "id": "48cc35c4",
   "metadata": {
    "execution": {
     "iopub.execute_input": "2022-05-31T07:53:04.751253Z",
     "iopub.status.busy": "2022-05-31T07:53:04.750695Z",
     "iopub.status.idle": "2022-05-31T07:53:04.761851Z",
     "shell.execute_reply": "2022-05-31T07:53:04.760814Z"
    },
    "papermill": {
     "duration": 0.02229,
     "end_time": "2022-05-31T07:53:04.764213",
     "exception": false,
     "start_time": "2022-05-31T07:53:04.741923",
     "status": "completed"
    },
    "tags": []
   },
   "outputs": [
    {
     "data": {
      "application/javascript": [
       "parent.postMessage({\"jupyterEvent\": \"custom.exercise_interaction\", \"data\": {\"outcomeType\": 1, \"valueTowardsCompletion\": 0.16666666666666666, \"interactionType\": 1, \"questionType\": 1, \"questionId\": \"4_SortedVarieties\", \"learnToolsVersion\": \"0.3.4\", \"failureMessage\": \"\", \"exceptionClass\": \"\", \"trace\": \"\"}}, \"*\")"
      ],
      "text/plain": [
       "<IPython.core.display.Javascript object>"
      ]
     },
     "metadata": {},
     "output_type": "display_data"
    },
    {
     "data": {
      "text/markdown": [
       "<span style=\"color:#33cc33\">Correct</span>"
      ],
      "text/plain": [
       "Correct"
      ]
     },
     "metadata": {},
     "output_type": "display_data"
    }
   ],
   "source": [
    "sorted_varieties = price_extremes.sort_values(by=['min', 'max'], ascending=False)\n",
    "\n",
    "\n",
    "# Check your answer\n",
    "q4.check()"
   ]
  },
  {
   "cell_type": "code",
   "execution_count": 9,
   "id": "32b4f723",
   "metadata": {
    "execution": {
     "iopub.execute_input": "2022-05-31T07:53:04.781855Z",
     "iopub.status.busy": "2022-05-31T07:53:04.781311Z",
     "iopub.status.idle": "2022-05-31T07:53:04.785268Z",
     "shell.execute_reply": "2022-05-31T07:53:04.784546Z"
    },
    "papermill": {
     "duration": 0.015248,
     "end_time": "2022-05-31T07:53:04.787361",
     "exception": false,
     "start_time": "2022-05-31T07:53:04.772113",
     "status": "completed"
    },
    "tags": []
   },
   "outputs": [],
   "source": [
    "#q4.hint()\n",
    "#q4.solution()"
   ]
  },
  {
   "cell_type": "markdown",
   "id": "43bff3c1",
   "metadata": {
    "papermill": {
     "duration": 0.009115,
     "end_time": "2022-05-31T07:53:04.805228",
     "exception": false,
     "start_time": "2022-05-31T07:53:04.796113",
     "status": "completed"
    },
    "tags": []
   },
   "source": [
    "## 5.\n",
    "Create a `Series` whose index is reviewers and whose values is the average review score given out by that reviewer. Hint: you will need the `taster_name` and `points` columns."
   ]
  },
  {
   "cell_type": "code",
   "execution_count": 10,
   "id": "cc861eab",
   "metadata": {
    "execution": {
     "iopub.execute_input": "2022-05-31T07:53:04.824840Z",
     "iopub.status.busy": "2022-05-31T07:53:04.824149Z",
     "iopub.status.idle": "2022-05-31T07:53:04.851645Z",
     "shell.execute_reply": "2022-05-31T07:53:04.850708Z"
    },
    "papermill": {
     "duration": 0.040185,
     "end_time": "2022-05-31T07:53:04.854050",
     "exception": false,
     "start_time": "2022-05-31T07:53:04.813865",
     "status": "completed"
    },
    "tags": []
   },
   "outputs": [
    {
     "data": {
      "application/javascript": [
       "parent.postMessage({\"jupyterEvent\": \"custom.exercise_interaction\", \"data\": {\"outcomeType\": 1, \"valueTowardsCompletion\": 0.16666666666666666, \"interactionType\": 1, \"questionType\": 1, \"questionId\": \"5_ReviewerMeanRatings\", \"learnToolsVersion\": \"0.3.4\", \"failureMessage\": \"\", \"exceptionClass\": \"\", \"trace\": \"\"}}, \"*\")"
      ],
      "text/plain": [
       "<IPython.core.display.Javascript object>"
      ]
     },
     "metadata": {},
     "output_type": "display_data"
    },
    {
     "data": {
      "text/markdown": [
       "<span style=\"color:#33cc33\">Correct</span>"
      ],
      "text/plain": [
       "Correct"
      ]
     },
     "metadata": {},
     "output_type": "display_data"
    }
   ],
   "source": [
    "reviewer_mean_ratings = reviews.groupby('taster_name').points.mean()\n",
    "\n",
    "# Check your answer\n",
    "q5.check()"
   ]
  },
  {
   "cell_type": "code",
   "execution_count": 11,
   "id": "74c72092",
   "metadata": {
    "execution": {
     "iopub.execute_input": "2022-05-31T07:53:04.873401Z",
     "iopub.status.busy": "2022-05-31T07:53:04.872960Z",
     "iopub.status.idle": "2022-05-31T07:53:04.876893Z",
     "shell.execute_reply": "2022-05-31T07:53:04.875935Z"
    },
    "papermill": {
     "duration": 0.015638,
     "end_time": "2022-05-31T07:53:04.878707",
     "exception": false,
     "start_time": "2022-05-31T07:53:04.863069",
     "status": "completed"
    },
    "tags": []
   },
   "outputs": [],
   "source": [
    "#q5.hint()\n",
    "#q5.solution()"
   ]
  },
  {
   "cell_type": "markdown",
   "id": "333d3b77",
   "metadata": {
    "papermill": {
     "duration": 0.008072,
     "end_time": "2022-05-31T07:53:04.895594",
     "exception": false,
     "start_time": "2022-05-31T07:53:04.887522",
     "status": "completed"
    },
    "tags": []
   },
   "source": [
    "Are there significant differences in the average scores assigned by the various reviewers? Run the cell below to use the `describe()` method to see a summary of the range of values."
   ]
  },
  {
   "cell_type": "code",
   "execution_count": 12,
   "id": "6e93018d",
   "metadata": {
    "execution": {
     "iopub.execute_input": "2022-05-31T07:53:04.914231Z",
     "iopub.status.busy": "2022-05-31T07:53:04.913165Z",
     "iopub.status.idle": "2022-05-31T07:53:04.925066Z",
     "shell.execute_reply": "2022-05-31T07:53:04.924403Z"
    },
    "papermill": {
     "duration": 0.022943,
     "end_time": "2022-05-31T07:53:04.926987",
     "exception": false,
     "start_time": "2022-05-31T07:53:04.904044",
     "status": "completed"
    },
    "tags": []
   },
   "outputs": [
    {
     "data": {
      "text/plain": [
       "count    19.000000\n",
       "mean     88.233026\n",
       "std       1.243610\n",
       "min      85.855422\n",
       "25%      87.323501\n",
       "50%      88.536235\n",
       "75%      88.975256\n",
       "max      90.562551\n",
       "Name: points, dtype: float64"
      ]
     },
     "execution_count": 12,
     "metadata": {},
     "output_type": "execute_result"
    }
   ],
   "source": [
    "reviewer_mean_ratings.describe()"
   ]
  },
  {
   "cell_type": "markdown",
   "id": "364f1302",
   "metadata": {
    "papermill": {
     "duration": 0.007874,
     "end_time": "2022-05-31T07:53:04.943144",
     "exception": false,
     "start_time": "2022-05-31T07:53:04.935270",
     "status": "completed"
    },
    "tags": []
   },
   "source": [
    "## 6.\n",
    "What combination of countries and varieties are most common? Create a `Series` whose index is a `MultiIndex`of `{country, variety}` pairs. For example, a pinot noir produced in the US should map to `{\"US\", \"Pinot Noir\"}`. Sort the values in the `Series` in descending order based on wine count."
   ]
  },
  {
   "cell_type": "code",
   "execution_count": 13,
   "id": "2e32109d",
   "metadata": {
    "execution": {
     "iopub.execute_input": "2022-05-31T07:53:04.962279Z",
     "iopub.status.busy": "2022-05-31T07:53:04.961164Z",
     "iopub.status.idle": "2022-05-31T07:53:05.008550Z",
     "shell.execute_reply": "2022-05-31T07:53:05.007908Z"
    },
    "papermill": {
     "duration": 0.05838,
     "end_time": "2022-05-31T07:53:05.010277",
     "exception": false,
     "start_time": "2022-05-31T07:53:04.951897",
     "status": "completed"
    },
    "tags": []
   },
   "outputs": [
    {
     "data": {
      "application/javascript": [
       "parent.postMessage({\"jupyterEvent\": \"custom.exercise_interaction\", \"data\": {\"outcomeType\": 1, \"valueTowardsCompletion\": 0.16666666666666666, \"interactionType\": 1, \"questionType\": 1, \"questionId\": \"6_GroupbyCountryVariety\", \"learnToolsVersion\": \"0.3.4\", \"failureMessage\": \"\", \"exceptionClass\": \"\", \"trace\": \"\"}}, \"*\")"
      ],
      "text/plain": [
       "<IPython.core.display.Javascript object>"
      ]
     },
     "metadata": {},
     "output_type": "display_data"
    },
    {
     "data": {
      "text/markdown": [
       "<span style=\"color:#33cc33\">Correct</span>"
      ],
      "text/plain": [
       "Correct"
      ]
     },
     "metadata": {},
     "output_type": "display_data"
    }
   ],
   "source": [
    "country_variety_counts = reviews.groupby(['country', 'variety']).size().sort_values(ascending=False)\n",
    "\n",
    "# Check your answer\n",
    "q6.check()"
   ]
  },
  {
   "cell_type": "code",
   "execution_count": 14,
   "id": "9f6daa69",
   "metadata": {
    "execution": {
     "iopub.execute_input": "2022-05-31T07:53:05.028941Z",
     "iopub.status.busy": "2022-05-31T07:53:05.028421Z",
     "iopub.status.idle": "2022-05-31T07:53:05.038422Z",
     "shell.execute_reply": "2022-05-31T07:53:05.037217Z"
    },
    "papermill": {
     "duration": 0.021858,
     "end_time": "2022-05-31T07:53:05.040545",
     "exception": false,
     "start_time": "2022-05-31T07:53:05.018687",
     "status": "completed"
    },
    "tags": []
   },
   "outputs": [
    {
     "data": {
      "application/javascript": [
       "parent.postMessage({\"jupyterEvent\": \"custom.exercise_interaction\", \"data\": {\"interactionType\": 2, \"questionType\": 1, \"questionId\": \"6_GroupbyCountryVariety\", \"learnToolsVersion\": \"0.3.4\", \"valueTowardsCompletion\": 0.0, \"failureMessage\": \"\", \"exceptionClass\": \"\", \"trace\": \"\", \"outcomeType\": 4}}, \"*\")"
      ],
      "text/plain": [
       "<IPython.core.display.Javascript object>"
      ]
     },
     "metadata": {},
     "output_type": "display_data"
    },
    {
     "data": {
      "text/markdown": [
       "<span style=\"color:#3366cc\">Hint:</span> Use `groupby()`, and provide a list of columns to group by.  You may also find `size()` and `sort_values()` to be useful!"
      ],
      "text/plain": [
       "Hint: Use `groupby()`, and provide a list of columns to group by.  You may also find `size()` and `sort_values()` to be useful!"
      ]
     },
     "metadata": {},
     "output_type": "display_data"
    },
    {
     "data": {
      "application/javascript": [
       "parent.postMessage({\"jupyterEvent\": \"custom.exercise_interaction\", \"data\": {\"interactionType\": 3, \"questionType\": 1, \"questionId\": \"6_GroupbyCountryVariety\", \"learnToolsVersion\": \"0.3.4\", \"valueTowardsCompletion\": 0.0, \"failureMessage\": \"\", \"exceptionClass\": \"\", \"trace\": \"\", \"outcomeType\": 4}}, \"*\")"
      ],
      "text/plain": [
       "<IPython.core.display.Javascript object>"
      ]
     },
     "metadata": {},
     "output_type": "display_data"
    },
    {
     "data": {
      "text/markdown": [
       "<span style=\"color:#33cc99\">Solution:</span> \n",
       "```python\n",
       "country_variety_counts = reviews.groupby(['country', 'variety']).size().sort_values(ascending=False)\n",
       "```"
      ],
      "text/plain": [
       "Solution: \n",
       "```python\n",
       "country_variety_counts = reviews.groupby(['country', 'variety']).size().sort_values(ascending=False)\n",
       "```"
      ]
     },
     "metadata": {},
     "output_type": "display_data"
    }
   ],
   "source": [
    "q6.hint()\n",
    "q6.solution()"
   ]
  },
  {
   "cell_type": "markdown",
   "id": "6d916cdc",
   "metadata": {
    "papermill": {
     "duration": 0.00932,
     "end_time": "2022-05-31T07:53:05.058912",
     "exception": false,
     "start_time": "2022-05-31T07:53:05.049592",
     "status": "completed"
    },
    "tags": []
   },
   "source": [
    "# Keep going\n",
    "\n",
    "Move on to the [**data types and missing data**](https://www.kaggle.com/residentmario/data-types-and-missing-values)."
   ]
  },
  {
   "cell_type": "markdown",
   "id": "17a4274a",
   "metadata": {
    "papermill": {
     "duration": 0.00896,
     "end_time": "2022-05-31T07:53:05.076882",
     "exception": false,
     "start_time": "2022-05-31T07:53:05.067922",
     "status": "completed"
    },
    "tags": []
   },
   "source": [
    "---\n",
    "\n",
    "\n",
    "\n",
    "\n",
    "*Have questions or comments? Visit the [course discussion forum](https://www.kaggle.com/learn/pandas/discussion) to chat with other learners.*"
   ]
  }
 ],
 "metadata": {
  "kernelspec": {
   "display_name": "Python 3",
   "language": "python",
   "name": "python3"
  },
  "language_info": {
   "codemirror_mode": {
    "name": "ipython",
    "version": 3
   },
   "file_extension": ".py",
   "mimetype": "text/x-python",
   "name": "python",
   "nbconvert_exporter": "python",
   "pygments_lexer": "ipython3",
   "version": "3.7.12"
  },
  "papermill": {
   "default_parameters": {},
   "duration": 15.205355,
   "end_time": "2022-05-31T07:53:05.808393",
   "environment_variables": {},
   "exception": null,
   "input_path": "__notebook__.ipynb",
   "output_path": "__notebook__.ipynb",
   "parameters": {},
   "start_time": "2022-05-31T07:52:50.603038",
   "version": "2.3.4"
  }
 },
 "nbformat": 4,
 "nbformat_minor": 5
}
