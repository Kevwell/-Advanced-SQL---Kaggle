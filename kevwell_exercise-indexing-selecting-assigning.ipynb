{
 "cells": [
  {
   "cell_type": "markdown",
   "id": "1e022faa",
   "metadata": {
    "papermill": {
     "duration": 0.010069,
     "end_time": "2022-05-30T22:30:35.807774",
     "exception": false,
     "start_time": "2022-05-30T22:30:35.797705",
     "status": "completed"
    },
    "tags": []
   },
   "source": [
    "**This notebook is an exercise in the [Pandas](https://www.kaggle.com/learn/pandas) course.  You can reference the tutorial at [this link](https://www.kaggle.com/residentmario/indexing-selecting-assigning).**\n",
    "\n",
    "---\n"
   ]
  },
  {
   "cell_type": "markdown",
   "id": "74151832",
   "metadata": {
    "papermill": {
     "duration": 0.008536,
     "end_time": "2022-05-30T22:30:35.825255",
     "exception": false,
     "start_time": "2022-05-30T22:30:35.816719",
     "status": "completed"
    },
    "tags": []
   },
   "source": [
    "# Introduction\n",
    "\n",
    "In this set of exercises we will work with the [Wine Reviews dataset](https://www.kaggle.com/zynicide/wine-reviews). "
   ]
  },
  {
   "cell_type": "markdown",
   "id": "9274658a",
   "metadata": {
    "papermill": {
     "duration": 0.008298,
     "end_time": "2022-05-30T22:30:35.842559",
     "exception": false,
     "start_time": "2022-05-30T22:30:35.834261",
     "status": "completed"
    },
    "tags": []
   },
   "source": [
    "Run the following cell to load your data and some utility functions (including code to check your answers)."
   ]
  },
  {
   "cell_type": "code",
   "execution_count": 1,
   "id": "bd365b50",
   "metadata": {
    "execution": {
     "iopub.execute_input": "2022-05-30T22:30:35.862315Z",
     "iopub.status.busy": "2022-05-30T22:30:35.861113Z",
     "iopub.status.idle": "2022-05-30T22:30:38.671217Z",
     "shell.execute_reply": "2022-05-30T22:30:38.670155Z"
    },
    "papermill": {
     "duration": 2.822432,
     "end_time": "2022-05-30T22:30:38.673688",
     "exception": false,
     "start_time": "2022-05-30T22:30:35.851256",
     "status": "completed"
    },
    "tags": []
   },
   "outputs": [
    {
     "name": "stdout",
     "output_type": "stream",
     "text": [
      "Setup complete.\n"
     ]
    }
   ],
   "source": [
    "import pandas as pd\n",
    "\n",
    "reviews = pd.read_csv(\"../input/wine-reviews/winemag-data-130k-v2.csv\", index_col=0)\n",
    "pd.set_option(\"display.max_rows\", 5)\n",
    "\n",
    "from learntools.core import binder; binder.bind(globals())\n",
    "from learntools.pandas.indexing_selecting_and_assigning import *\n",
    "print(\"Setup complete.\")"
   ]
  },
  {
   "cell_type": "markdown",
   "id": "239ce233",
   "metadata": {
    "papermill": {
     "duration": 0.008972,
     "end_time": "2022-05-30T22:30:38.691739",
     "exception": false,
     "start_time": "2022-05-30T22:30:38.682767",
     "status": "completed"
    },
    "tags": []
   },
   "source": [
    "Look at an overview of your data by running the following line."
   ]
  },
  {
   "cell_type": "code",
   "execution_count": 2,
   "id": "2fe02bc5",
   "metadata": {
    "execution": {
     "iopub.execute_input": "2022-05-30T22:30:38.710929Z",
     "iopub.status.busy": "2022-05-30T22:30:38.710536Z",
     "iopub.status.idle": "2022-05-30T22:30:38.740181Z",
     "shell.execute_reply": "2022-05-30T22:30:38.739433Z"
    },
    "papermill": {
     "duration": 0.041763,
     "end_time": "2022-05-30T22:30:38.742417",
     "exception": false,
     "start_time": "2022-05-30T22:30:38.700654",
     "status": "completed"
    },
    "tags": []
   },
   "outputs": [
    {
     "data": {
      "text/html": [
       "<div>\n",
       "<style scoped>\n",
       "    .dataframe tbody tr th:only-of-type {\n",
       "        vertical-align: middle;\n",
       "    }\n",
       "\n",
       "    .dataframe tbody tr th {\n",
       "        vertical-align: top;\n",
       "    }\n",
       "\n",
       "    .dataframe thead th {\n",
       "        text-align: right;\n",
       "    }\n",
       "</style>\n",
       "<table border=\"1\" class=\"dataframe\">\n",
       "  <thead>\n",
       "    <tr style=\"text-align: right;\">\n",
       "      <th></th>\n",
       "      <th>country</th>\n",
       "      <th>description</th>\n",
       "      <th>designation</th>\n",
       "      <th>points</th>\n",
       "      <th>price</th>\n",
       "      <th>province</th>\n",
       "      <th>region_1</th>\n",
       "      <th>region_2</th>\n",
       "      <th>taster_name</th>\n",
       "      <th>taster_twitter_handle</th>\n",
       "      <th>title</th>\n",
       "      <th>variety</th>\n",
       "      <th>winery</th>\n",
       "    </tr>\n",
       "  </thead>\n",
       "  <tbody>\n",
       "    <tr>\n",
       "      <th>0</th>\n",
       "      <td>Italy</td>\n",
       "      <td>Aromas include tropical fruit, broom, brimston...</td>\n",
       "      <td>Vulkà Bianco</td>\n",
       "      <td>87</td>\n",
       "      <td>NaN</td>\n",
       "      <td>Sicily &amp; Sardinia</td>\n",
       "      <td>Etna</td>\n",
       "      <td>NaN</td>\n",
       "      <td>Kerin O’Keefe</td>\n",
       "      <td>@kerinokeefe</td>\n",
       "      <td>Nicosia 2013 Vulkà Bianco  (Etna)</td>\n",
       "      <td>White Blend</td>\n",
       "      <td>Nicosia</td>\n",
       "    </tr>\n",
       "    <tr>\n",
       "      <th>1</th>\n",
       "      <td>Portugal</td>\n",
       "      <td>This is ripe and fruity, a wine that is smooth...</td>\n",
       "      <td>Avidagos</td>\n",
       "      <td>87</td>\n",
       "      <td>15.0</td>\n",
       "      <td>Douro</td>\n",
       "      <td>NaN</td>\n",
       "      <td>NaN</td>\n",
       "      <td>Roger Voss</td>\n",
       "      <td>@vossroger</td>\n",
       "      <td>Quinta dos Avidagos 2011 Avidagos Red (Douro)</td>\n",
       "      <td>Portuguese Red</td>\n",
       "      <td>Quinta dos Avidagos</td>\n",
       "    </tr>\n",
       "    <tr>\n",
       "      <th>2</th>\n",
       "      <td>US</td>\n",
       "      <td>Tart and snappy, the flavors of lime flesh and...</td>\n",
       "      <td>NaN</td>\n",
       "      <td>87</td>\n",
       "      <td>14.0</td>\n",
       "      <td>Oregon</td>\n",
       "      <td>Willamette Valley</td>\n",
       "      <td>Willamette Valley</td>\n",
       "      <td>Paul Gregutt</td>\n",
       "      <td>@paulgwine</td>\n",
       "      <td>Rainstorm 2013 Pinot Gris (Willamette Valley)</td>\n",
       "      <td>Pinot Gris</td>\n",
       "      <td>Rainstorm</td>\n",
       "    </tr>\n",
       "    <tr>\n",
       "      <th>3</th>\n",
       "      <td>US</td>\n",
       "      <td>Pineapple rind, lemon pith and orange blossom ...</td>\n",
       "      <td>Reserve Late Harvest</td>\n",
       "      <td>87</td>\n",
       "      <td>13.0</td>\n",
       "      <td>Michigan</td>\n",
       "      <td>Lake Michigan Shore</td>\n",
       "      <td>NaN</td>\n",
       "      <td>Alexander Peartree</td>\n",
       "      <td>NaN</td>\n",
       "      <td>St. Julian 2013 Reserve Late Harvest Riesling ...</td>\n",
       "      <td>Riesling</td>\n",
       "      <td>St. Julian</td>\n",
       "    </tr>\n",
       "    <tr>\n",
       "      <th>4</th>\n",
       "      <td>US</td>\n",
       "      <td>Much like the regular bottling from 2012, this...</td>\n",
       "      <td>Vintner's Reserve Wild Child Block</td>\n",
       "      <td>87</td>\n",
       "      <td>65.0</td>\n",
       "      <td>Oregon</td>\n",
       "      <td>Willamette Valley</td>\n",
       "      <td>Willamette Valley</td>\n",
       "      <td>Paul Gregutt</td>\n",
       "      <td>@paulgwine</td>\n",
       "      <td>Sweet Cheeks 2012 Vintner's Reserve Wild Child...</td>\n",
       "      <td>Pinot Noir</td>\n",
       "      <td>Sweet Cheeks</td>\n",
       "    </tr>\n",
       "  </tbody>\n",
       "</table>\n",
       "</div>"
      ],
      "text/plain": [
       "    country                                        description  \\\n",
       "0     Italy  Aromas include tropical fruit, broom, brimston...   \n",
       "1  Portugal  This is ripe and fruity, a wine that is smooth...   \n",
       "2        US  Tart and snappy, the flavors of lime flesh and...   \n",
       "3        US  Pineapple rind, lemon pith and orange blossom ...   \n",
       "4        US  Much like the regular bottling from 2012, this...   \n",
       "\n",
       "                          designation  points  price           province  \\\n",
       "0                        Vulkà Bianco      87    NaN  Sicily & Sardinia   \n",
       "1                            Avidagos      87   15.0              Douro   \n",
       "2                                 NaN      87   14.0             Oregon   \n",
       "3                Reserve Late Harvest      87   13.0           Michigan   \n",
       "4  Vintner's Reserve Wild Child Block      87   65.0             Oregon   \n",
       "\n",
       "              region_1           region_2         taster_name  \\\n",
       "0                 Etna                NaN       Kerin O’Keefe   \n",
       "1                  NaN                NaN          Roger Voss   \n",
       "2    Willamette Valley  Willamette Valley        Paul Gregutt   \n",
       "3  Lake Michigan Shore                NaN  Alexander Peartree   \n",
       "4    Willamette Valley  Willamette Valley        Paul Gregutt   \n",
       "\n",
       "  taster_twitter_handle                                              title  \\\n",
       "0          @kerinokeefe                  Nicosia 2013 Vulkà Bianco  (Etna)   \n",
       "1            @vossroger      Quinta dos Avidagos 2011 Avidagos Red (Douro)   \n",
       "2           @paulgwine       Rainstorm 2013 Pinot Gris (Willamette Valley)   \n",
       "3                   NaN  St. Julian 2013 Reserve Late Harvest Riesling ...   \n",
       "4           @paulgwine   Sweet Cheeks 2012 Vintner's Reserve Wild Child...   \n",
       "\n",
       "          variety               winery  \n",
       "0     White Blend              Nicosia  \n",
       "1  Portuguese Red  Quinta dos Avidagos  \n",
       "2      Pinot Gris            Rainstorm  \n",
       "3        Riesling           St. Julian  \n",
       "4      Pinot Noir         Sweet Cheeks  "
      ]
     },
     "execution_count": 2,
     "metadata": {},
     "output_type": "execute_result"
    }
   ],
   "source": [
    "reviews.head()"
   ]
  },
  {
   "cell_type": "markdown",
   "id": "8170c1bc",
   "metadata": {
    "papermill": {
     "duration": 0.008812,
     "end_time": "2022-05-30T22:30:38.760572",
     "exception": false,
     "start_time": "2022-05-30T22:30:38.751760",
     "status": "completed"
    },
    "tags": []
   },
   "source": [
    "# Exercises"
   ]
  },
  {
   "cell_type": "markdown",
   "id": "01a86b26",
   "metadata": {
    "papermill": {
     "duration": 0.008717,
     "end_time": "2022-05-30T22:30:38.778410",
     "exception": false,
     "start_time": "2022-05-30T22:30:38.769693",
     "status": "completed"
    },
    "tags": []
   },
   "source": [
    "## 1.\n",
    "\n",
    "Select the `description` column from `reviews` and assign the result to the variable `desc`."
   ]
  },
  {
   "cell_type": "code",
   "execution_count": 3,
   "id": "4ae7b8b3",
   "metadata": {
    "execution": {
     "iopub.execute_input": "2022-05-30T22:30:38.798694Z",
     "iopub.status.busy": "2022-05-30T22:30:38.798051Z",
     "iopub.status.idle": "2022-05-30T22:30:38.807680Z",
     "shell.execute_reply": "2022-05-30T22:30:38.806775Z"
    },
    "papermill": {
     "duration": 0.022213,
     "end_time": "2022-05-30T22:30:38.809606",
     "exception": false,
     "start_time": "2022-05-30T22:30:38.787393",
     "status": "completed"
    },
    "tags": []
   },
   "outputs": [
    {
     "data": {
      "application/javascript": [
       "parent.postMessage({\"jupyterEvent\": \"custom.exercise_interaction\", \"data\": {\"outcomeType\": 1, \"valueTowardsCompletion\": 0.1111111111111111, \"interactionType\": 1, \"questionType\": 1, \"questionId\": \"1_SelectDescCol\", \"learnToolsVersion\": \"0.3.4\", \"failureMessage\": \"\", \"exceptionClass\": \"\", \"trace\": \"\"}}, \"*\")"
      ],
      "text/plain": [
       "<IPython.core.display.Javascript object>"
      ]
     },
     "metadata": {},
     "output_type": "display_data"
    },
    {
     "data": {
      "text/markdown": [
       "<span style=\"color:#33cc33\">Correct</span>"
      ],
      "text/plain": [
       "Correct"
      ]
     },
     "metadata": {},
     "output_type": "display_data"
    }
   ],
   "source": [
    "# Your code here\n",
    "desc = reviews.description\n",
    "\n",
    "# Check your answer\n",
    "q1.check()"
   ]
  },
  {
   "cell_type": "markdown",
   "id": "bb02c2ca",
   "metadata": {
    "papermill": {
     "duration": 0.009073,
     "end_time": "2022-05-30T22:30:38.827927",
     "exception": false,
     "start_time": "2022-05-30T22:30:38.818854",
     "status": "completed"
    },
    "tags": []
   },
   "source": [
    "Follow-up question: what type of object is `desc`? If you're not sure, you can check by calling Python's `type` function: `type(desc)`."
   ]
  },
  {
   "cell_type": "code",
   "execution_count": 4,
   "id": "c0862b80",
   "metadata": {
    "execution": {
     "iopub.execute_input": "2022-05-30T22:30:38.848993Z",
     "iopub.status.busy": "2022-05-30T22:30:38.847967Z",
     "iopub.status.idle": "2022-05-30T22:30:38.854938Z",
     "shell.execute_reply": "2022-05-30T22:30:38.853953Z"
    },
    "papermill": {
     "duration": 0.019773,
     "end_time": "2022-05-30T22:30:38.857223",
     "exception": false,
     "start_time": "2022-05-30T22:30:38.837450",
     "status": "completed"
    },
    "tags": []
   },
   "outputs": [
    {
     "data": {
      "application/javascript": [
       "parent.postMessage({\"jupyterEvent\": \"custom.exercise_interaction\", \"data\": {\"interactionType\": 3, \"questionType\": 1, \"questionId\": \"1_SelectDescCol\", \"learnToolsVersion\": \"0.3.4\", \"valueTowardsCompletion\": 0.0, \"failureMessage\": \"\", \"exceptionClass\": \"\", \"trace\": \"\", \"outcomeType\": 4}}, \"*\")"
      ],
      "text/plain": [
       "<IPython.core.display.Javascript object>"
      ]
     },
     "metadata": {},
     "output_type": "display_data"
    },
    {
     "data": {
      "text/markdown": [
       "<span style=\"color:#33cc99\">Solution:</span> \n",
       "```python\n",
       "desc = reviews.description\n",
       "```\n",
       "or \n",
       "```python\n",
       "desc = reviews[\"description\"]\n",
       "```\n",
       "`desc` is a pandas `Series` object, with an index matching the `reviews` DataFrame. \n",
       "In general, when we select a single column from a DataFrame, we'll get a Series.\n"
      ],
      "text/plain": [
       "Solution: \n",
       "```python\n",
       "desc = reviews.description\n",
       "```\n",
       "or \n",
       "```python\n",
       "desc = reviews[\"description\"]\n",
       "```\n",
       "`desc` is a pandas `Series` object, with an index matching the `reviews` DataFrame. \n",
       "In general, when we select a single column from a DataFrame, we'll get a Series."
      ]
     },
     "metadata": {},
     "output_type": "display_data"
    }
   ],
   "source": [
    "#q1.hint()\n",
    "q1.solution()"
   ]
  },
  {
   "cell_type": "markdown",
   "id": "ec69347d",
   "metadata": {
    "papermill": {
     "duration": 0.009721,
     "end_time": "2022-05-30T22:30:38.876713",
     "exception": false,
     "start_time": "2022-05-30T22:30:38.866992",
     "status": "completed"
    },
    "tags": []
   },
   "source": [
    "## 2.\n",
    "\n",
    "Select the first value from the description column of `reviews`, assigning it to variable `first_description`."
   ]
  },
  {
   "cell_type": "code",
   "execution_count": 5,
   "id": "32d89fe9",
   "metadata": {
    "execution": {
     "iopub.execute_input": "2022-05-30T22:30:38.898443Z",
     "iopub.status.busy": "2022-05-30T22:30:38.898008Z",
     "iopub.status.idle": "2022-05-30T22:30:38.913554Z",
     "shell.execute_reply": "2022-05-30T22:30:38.912435Z"
    },
    "papermill": {
     "duration": 0.029121,
     "end_time": "2022-05-30T22:30:38.915746",
     "exception": false,
     "start_time": "2022-05-30T22:30:38.886625",
     "status": "completed"
    },
    "tags": []
   },
   "outputs": [
    {
     "data": {
      "application/javascript": [
       "parent.postMessage({\"jupyterEvent\": \"custom.exercise_interaction\", \"data\": {\"outcomeType\": 1, \"valueTowardsCompletion\": 0.1111111111111111, \"interactionType\": 1, \"questionType\": 1, \"questionId\": \"2_FirstDesc\", \"learnToolsVersion\": \"0.3.4\", \"failureMessage\": \"\", \"exceptionClass\": \"\", \"trace\": \"\"}}, \"*\")"
      ],
      "text/plain": [
       "<IPython.core.display.Javascript object>"
      ]
     },
     "metadata": {},
     "output_type": "display_data"
    },
    {
     "data": {
      "text/markdown": [
       "<span style=\"color:#33cc33\">Correct:</span> \n",
       "\n",
       "\n",
       "```python\n",
       "first_description = reviews.description.iloc[0]\n",
       "```\n",
       "Note that while this is the preferred way to obtain the entry in the DataFrame, many other options will return a valid result, such as `reviews.description.loc[0]`, `reviews.description[0]`, and more!  \n"
      ],
      "text/plain": [
       "Correct: \n",
       "\n",
       "\n",
       "```python\n",
       "first_description = reviews.description.iloc[0]\n",
       "```\n",
       "Note that while this is the preferred way to obtain the entry in the DataFrame, many other options will return a valid result, such as `reviews.description.loc[0]`, `reviews.description[0]`, and more!  "
      ]
     },
     "metadata": {},
     "output_type": "display_data"
    },
    {
     "data": {
      "text/plain": [
       "\"Aromas include tropical fruit, broom, brimstone and dried herb. The palate isn't overly expressive, offering unripened apple, citrus and dried sage alongside brisk acidity.\""
      ]
     },
     "execution_count": 5,
     "metadata": {},
     "output_type": "execute_result"
    }
   ],
   "source": [
    "first_description = reviews.description[0]\n",
    "\n",
    "# Check your answer\n",
    "q2.check()\n",
    "first_description"
   ]
  },
  {
   "cell_type": "code",
   "execution_count": 6,
   "id": "516bbaf1",
   "metadata": {
    "execution": {
     "iopub.execute_input": "2022-05-30T22:30:38.938076Z",
     "iopub.status.busy": "2022-05-30T22:30:38.937661Z",
     "iopub.status.idle": "2022-05-30T22:30:38.941745Z",
     "shell.execute_reply": "2022-05-30T22:30:38.940742Z"
    },
    "papermill": {
     "duration": 0.017327,
     "end_time": "2022-05-30T22:30:38.943646",
     "exception": false,
     "start_time": "2022-05-30T22:30:38.926319",
     "status": "completed"
    },
    "tags": []
   },
   "outputs": [],
   "source": [
    "#q2.hint()\n",
    "#q2.solution()"
   ]
  },
  {
   "cell_type": "markdown",
   "id": "e5c45e1f",
   "metadata": {
    "papermill": {
     "duration": 0.009941,
     "end_time": "2022-05-30T22:30:38.963806",
     "exception": false,
     "start_time": "2022-05-30T22:30:38.953865",
     "status": "completed"
    },
    "tags": []
   },
   "source": [
    "## 3. \n",
    "\n",
    "Select the first row of data (the first record) from `reviews`, assigning it to the variable `first_row`."
   ]
  },
  {
   "cell_type": "code",
   "execution_count": 7,
   "id": "28c0d4fd",
   "metadata": {
    "execution": {
     "iopub.execute_input": "2022-05-30T22:30:38.985907Z",
     "iopub.status.busy": "2022-05-30T22:30:38.985484Z",
     "iopub.status.idle": "2022-05-30T22:30:38.994167Z",
     "shell.execute_reply": "2022-05-30T22:30:38.993219Z"
    },
    "papermill": {
     "duration": 0.022541,
     "end_time": "2022-05-30T22:30:38.996408",
     "exception": false,
     "start_time": "2022-05-30T22:30:38.973867",
     "status": "completed"
    },
    "tags": []
   },
   "outputs": [
    {
     "data": {
      "application/javascript": [
       "parent.postMessage({\"jupyterEvent\": \"custom.exercise_interaction\", \"data\": {\"outcomeType\": 1, \"valueTowardsCompletion\": 0.1111111111111111, \"interactionType\": 1, \"questionType\": 1, \"questionId\": \"3_FirstRow\", \"learnToolsVersion\": \"0.3.4\", \"failureMessage\": \"\", \"exceptionClass\": \"\", \"trace\": \"\"}}, \"*\")"
      ],
      "text/plain": [
       "<IPython.core.display.Javascript object>"
      ]
     },
     "metadata": {},
     "output_type": "display_data"
    },
    {
     "data": {
      "text/markdown": [
       "<span style=\"color:#33cc33\">Correct</span>"
      ],
      "text/plain": [
       "Correct"
      ]
     },
     "metadata": {},
     "output_type": "display_data"
    }
   ],
   "source": [
    "first_row = reviews.loc[0]\n",
    "\n",
    "# Check your answer\n",
    "q3.check()"
   ]
  },
  {
   "cell_type": "code",
   "execution_count": 8,
   "id": "a47888ea",
   "metadata": {
    "execution": {
     "iopub.execute_input": "2022-05-30T22:30:39.020009Z",
     "iopub.status.busy": "2022-05-30T22:30:39.018863Z",
     "iopub.status.idle": "2022-05-30T22:30:39.023449Z",
     "shell.execute_reply": "2022-05-30T22:30:39.022508Z"
    },
    "papermill": {
     "duration": 0.019045,
     "end_time": "2022-05-30T22:30:39.026033",
     "exception": false,
     "start_time": "2022-05-30T22:30:39.006988",
     "status": "completed"
    },
    "tags": []
   },
   "outputs": [],
   "source": [
    "#q3.hint()\n",
    "#q3.solution()"
   ]
  },
  {
   "cell_type": "markdown",
   "id": "fd01454b",
   "metadata": {
    "papermill": {
     "duration": 0.010575,
     "end_time": "2022-05-30T22:30:39.047643",
     "exception": false,
     "start_time": "2022-05-30T22:30:39.037068",
     "status": "completed"
    },
    "tags": []
   },
   "source": [
    "## 4.\n",
    "\n",
    "Select the first 10 values from the `description` column in `reviews`, assigning the result to variable `first_descriptions`.\n",
    "\n",
    "Hint: format your output as a pandas Series."
   ]
  },
  {
   "cell_type": "code",
   "execution_count": 9,
   "id": "0928ad41",
   "metadata": {
    "execution": {
     "iopub.execute_input": "2022-05-30T22:30:39.070899Z",
     "iopub.status.busy": "2022-05-30T22:30:39.070490Z",
     "iopub.status.idle": "2022-05-30T22:30:39.084113Z",
     "shell.execute_reply": "2022-05-30T22:30:39.083374Z"
    },
    "papermill": {
     "duration": 0.027511,
     "end_time": "2022-05-30T22:30:39.086064",
     "exception": false,
     "start_time": "2022-05-30T22:30:39.058553",
     "status": "completed"
    },
    "tags": []
   },
   "outputs": [
    {
     "data": {
      "application/javascript": [
       "parent.postMessage({\"jupyterEvent\": \"custom.exercise_interaction\", \"data\": {\"outcomeType\": 1, \"valueTowardsCompletion\": 0.1111111111111111, \"interactionType\": 1, \"questionType\": 1, \"questionId\": \"4_FirstDescs\", \"learnToolsVersion\": \"0.3.4\", \"failureMessage\": \"\", \"exceptionClass\": \"\", \"trace\": \"\"}}, \"*\")"
      ],
      "text/plain": [
       "<IPython.core.display.Javascript object>"
      ]
     },
     "metadata": {},
     "output_type": "display_data"
    },
    {
     "data": {
      "text/markdown": [
       "<span style=\"color:#33cc33\">Correct:</span> \n",
       "\n",
       "\n",
       "```python\n",
       "first_descriptions = reviews.description.iloc[:10]\n",
       "```\n",
       "Note that many other options will return a valid result, such as `desc.head(10)` and `reviews.loc[:9, \"description\"]`.    \n"
      ],
      "text/plain": [
       "Correct: \n",
       "\n",
       "\n",
       "```python\n",
       "first_descriptions = reviews.description.iloc[:10]\n",
       "```\n",
       "Note that many other options will return a valid result, such as `desc.head(10)` and `reviews.loc[:9, \"description\"]`.    "
      ]
     },
     "metadata": {},
     "output_type": "display_data"
    },
    {
     "data": {
      "text/plain": [
       "0    Aromas include tropical fruit, broom, brimston...\n",
       "1    This is ripe and fruity, a wine that is smooth...\n",
       "                           ...                        \n",
       "8    Savory dried thyme notes accent sunnier flavor...\n",
       "9    This has great depth of flavor with its fresh ...\n",
       "Name: description, Length: 10, dtype: object"
      ]
     },
     "execution_count": 9,
     "metadata": {},
     "output_type": "execute_result"
    }
   ],
   "source": [
    "first_descriptions = reviews.description.loc[0:9]\n",
    "\n",
    "# Check your answer\n",
    "q4.check()\n",
    "first_descriptions"
   ]
  },
  {
   "cell_type": "code",
   "execution_count": 10,
   "id": "f29d44c0",
   "metadata": {
    "execution": {
     "iopub.execute_input": "2022-05-30T22:30:39.110445Z",
     "iopub.status.busy": "2022-05-30T22:30:39.109745Z",
     "iopub.status.idle": "2022-05-30T22:30:39.113666Z",
     "shell.execute_reply": "2022-05-30T22:30:39.113027Z"
    },
    "papermill": {
     "duration": 0.018144,
     "end_time": "2022-05-30T22:30:39.115595",
     "exception": false,
     "start_time": "2022-05-30T22:30:39.097451",
     "status": "completed"
    },
    "tags": []
   },
   "outputs": [],
   "source": [
    "#q4.hint()\n",
    "#q4.solution()"
   ]
  },
  {
   "cell_type": "markdown",
   "id": "68dc3cf9",
   "metadata": {
    "papermill": {
     "duration": 0.01121,
     "end_time": "2022-05-30T22:30:39.137855",
     "exception": false,
     "start_time": "2022-05-30T22:30:39.126645",
     "status": "completed"
    },
    "tags": []
   },
   "source": [
    "## 5.\n",
    "\n",
    "Select the records with index labels `1`, `2`, `3`, `5`, and `8`, assigning the result to the variable `sample_reviews`.\n",
    "\n",
    "In other words, generate the following DataFrame:\n",
    "\n",
    "![](https://i.imgur.com/sHZvI1O.png)"
   ]
  },
  {
   "cell_type": "code",
   "execution_count": 11,
   "id": "87d0f8de",
   "metadata": {
    "execution": {
     "iopub.execute_input": "2022-05-30T22:30:39.162321Z",
     "iopub.status.busy": "2022-05-30T22:30:39.161617Z",
     "iopub.status.idle": "2022-05-30T22:30:39.171736Z",
     "shell.execute_reply": "2022-05-30T22:30:39.170879Z"
    },
    "papermill": {
     "duration": 0.024474,
     "end_time": "2022-05-30T22:30:39.173653",
     "exception": false,
     "start_time": "2022-05-30T22:30:39.149179",
     "status": "completed"
    },
    "tags": []
   },
   "outputs": [
    {
     "data": {
      "application/javascript": [
       "parent.postMessage({\"jupyterEvent\": \"custom.exercise_interaction\", \"data\": {\"outcomeType\": 1, \"valueTowardsCompletion\": 0.1111111111111111, \"interactionType\": 1, \"questionType\": 1, \"questionId\": \"5_SampleReviews\", \"learnToolsVersion\": \"0.3.4\", \"failureMessage\": \"\", \"exceptionClass\": \"\", \"trace\": \"\"}}, \"*\")"
      ],
      "text/plain": [
       "<IPython.core.display.Javascript object>"
      ]
     },
     "metadata": {},
     "output_type": "display_data"
    },
    {
     "data": {
      "text/markdown": [
       "<span style=\"color:#33cc33\">Correct</span>"
      ],
      "text/plain": [
       "Correct"
      ]
     },
     "metadata": {},
     "output_type": "display_data"
    }
   ],
   "source": [
    "sample_reviews = reviews.loc[[1, 2, 3, 5, 8]]\n",
    "\n",
    "# Check your answer\n",
    "q5.check()"
   ]
  },
  {
   "cell_type": "code",
   "execution_count": 12,
   "id": "0a298d66",
   "metadata": {
    "execution": {
     "iopub.execute_input": "2022-05-30T22:30:39.198037Z",
     "iopub.status.busy": "2022-05-30T22:30:39.197344Z",
     "iopub.status.idle": "2022-05-30T22:30:39.205435Z",
     "shell.execute_reply": "2022-05-30T22:30:39.204616Z"
    },
    "papermill": {
     "duration": 0.022799,
     "end_time": "2022-05-30T22:30:39.207513",
     "exception": false,
     "start_time": "2022-05-30T22:30:39.184714",
     "status": "completed"
    },
    "tags": []
   },
   "outputs": [
    {
     "data": {
      "application/javascript": [
       "parent.postMessage({\"jupyterEvent\": \"custom.exercise_interaction\", \"data\": {\"interactionType\": 3, \"questionType\": 1, \"questionId\": \"5_SampleReviews\", \"learnToolsVersion\": \"0.3.4\", \"valueTowardsCompletion\": 0.0, \"failureMessage\": \"\", \"exceptionClass\": \"\", \"trace\": \"\", \"outcomeType\": 4}}, \"*\")"
      ],
      "text/plain": [
       "<IPython.core.display.Javascript object>"
      ]
     },
     "metadata": {},
     "output_type": "display_data"
    },
    {
     "data": {
      "text/markdown": [
       "<span style=\"color:#33cc99\">Solution:</span> \n",
       "```python\n",
       "indices = [1, 2, 3, 5, 8]\n",
       "sample_reviews = reviews.loc[indices]\n",
       "```"
      ],
      "text/plain": [
       "Solution: \n",
       "```python\n",
       "indices = [1, 2, 3, 5, 8]\n",
       "sample_reviews = reviews.loc[indices]\n",
       "```"
      ]
     },
     "metadata": {},
     "output_type": "display_data"
    }
   ],
   "source": [
    "#q5.hint()\n",
    "q5.solution()"
   ]
  },
  {
   "cell_type": "markdown",
   "id": "d4e6a6a5",
   "metadata": {
    "papermill": {
     "duration": 0.011571,
     "end_time": "2022-05-30T22:30:39.230525",
     "exception": false,
     "start_time": "2022-05-30T22:30:39.218954",
     "status": "completed"
    },
    "tags": []
   },
   "source": [
    "## 6.\n",
    "\n",
    "Create a variable `df` containing the `country`, `province`, `region_1`, and `region_2` columns of the records with the index labels `0`, `1`, `10`, and `100`. In other words, generate the following DataFrame:\n",
    "\n",
    "![](https://i.imgur.com/FUCGiKP.png)"
   ]
  },
  {
   "cell_type": "code",
   "execution_count": 13,
   "id": "1ded0c59",
   "metadata": {
    "execution": {
     "iopub.execute_input": "2022-05-30T22:30:39.263075Z",
     "iopub.status.busy": "2022-05-30T22:30:39.262264Z",
     "iopub.status.idle": "2022-05-30T22:30:39.278568Z",
     "shell.execute_reply": "2022-05-30T22:30:39.277574Z"
    },
    "papermill": {
     "duration": 0.031418,
     "end_time": "2022-05-30T22:30:39.280644",
     "exception": false,
     "start_time": "2022-05-30T22:30:39.249226",
     "status": "completed"
    },
    "tags": []
   },
   "outputs": [
    {
     "data": {
      "application/javascript": [
       "parent.postMessage({\"jupyterEvent\": \"custom.exercise_interaction\", \"data\": {\"outcomeType\": 1, \"valueTowardsCompletion\": 0.1111111111111111, \"interactionType\": 1, \"questionType\": 1, \"questionId\": \"6_RowColSelect\", \"learnToolsVersion\": \"0.3.4\", \"failureMessage\": \"\", \"exceptionClass\": \"\", \"trace\": \"\"}}, \"*\")"
      ],
      "text/plain": [
       "<IPython.core.display.Javascript object>"
      ]
     },
     "metadata": {},
     "output_type": "display_data"
    },
    {
     "data": {
      "text/markdown": [
       "<span style=\"color:#33cc33\">Correct</span>"
      ],
      "text/plain": [
       "Correct"
      ]
     },
     "metadata": {},
     "output_type": "display_data"
    }
   ],
   "source": [
    "df = reviews.loc[[0, 1, 10, 100], ['country', 'province', 'region_1', 'region_2']]\n",
    "\n",
    "# Check your answer\n",
    "q6.check()"
   ]
  },
  {
   "cell_type": "code",
   "execution_count": 14,
   "id": "f0c8c759",
   "metadata": {
    "execution": {
     "iopub.execute_input": "2022-05-30T22:30:39.306687Z",
     "iopub.status.busy": "2022-05-30T22:30:39.305908Z",
     "iopub.status.idle": "2022-05-30T22:30:39.310071Z",
     "shell.execute_reply": "2022-05-30T22:30:39.309391Z"
    },
    "papermill": {
     "duration": 0.019461,
     "end_time": "2022-05-30T22:30:39.312066",
     "exception": false,
     "start_time": "2022-05-30T22:30:39.292605",
     "status": "completed"
    },
    "tags": []
   },
   "outputs": [],
   "source": [
    "#q6.hint()\n",
    "#q6.solution()"
   ]
  },
  {
   "cell_type": "markdown",
   "id": "4dc6049a",
   "metadata": {
    "papermill": {
     "duration": 0.01148,
     "end_time": "2022-05-30T22:30:39.335512",
     "exception": false,
     "start_time": "2022-05-30T22:30:39.324032",
     "status": "completed"
    },
    "tags": []
   },
   "source": [
    "## 7.\n",
    "\n",
    "Create a variable `df` containing the `country` and `variety` columns of the first 100 records. \n",
    "\n",
    "Hint: you may use `loc` or `iloc`. When working on the answer this question and the several of the ones that follow, keep the following \"gotcha\" described in the tutorial:\n",
    "\n",
    "> `iloc` uses the Python stdlib indexing scheme, where the first element of the range is included and the last one excluded. \n",
    "`loc`, meanwhile, indexes inclusively. \n",
    "\n",
    "> This is particularly confusing when the DataFrame index is a simple numerical list, e.g. `0,...,1000`. In this case `df.iloc[0:1000]` will return 1000 entries, while `df.loc[0:1000]` return 1001 of them! To get 1000 elements using `loc`, you will need to go one lower and ask for `df.iloc[0:999]`. "
   ]
  },
  {
   "cell_type": "code",
   "execution_count": 15,
   "id": "7f929954",
   "metadata": {
    "execution": {
     "iopub.execute_input": "2022-05-30T22:30:39.362012Z",
     "iopub.status.busy": "2022-05-30T22:30:39.361239Z",
     "iopub.status.idle": "2022-05-30T22:30:39.371830Z",
     "shell.execute_reply": "2022-05-30T22:30:39.370859Z"
    },
    "papermill": {
     "duration": 0.026016,
     "end_time": "2022-05-30T22:30:39.373827",
     "exception": false,
     "start_time": "2022-05-30T22:30:39.347811",
     "status": "completed"
    },
    "tags": []
   },
   "outputs": [
    {
     "data": {
      "application/javascript": [
       "parent.postMessage({\"jupyterEvent\": \"custom.exercise_interaction\", \"data\": {\"outcomeType\": 1, \"valueTowardsCompletion\": 0.1111111111111111, \"interactionType\": 1, \"questionType\": 1, \"questionId\": \"7_RowColSelect2\", \"learnToolsVersion\": \"0.3.4\", \"failureMessage\": \"\", \"exceptionClass\": \"\", \"trace\": \"\"}}, \"*\")"
      ],
      "text/plain": [
       "<IPython.core.display.Javascript object>"
      ]
     },
     "metadata": {},
     "output_type": "display_data"
    },
    {
     "data": {
      "text/markdown": [
       "<span style=\"color:#33cc33\">Correct:</span> \n",
       "\n",
       "\n",
       "```python\n",
       "cols = ['country', 'variety']\n",
       "df = reviews.loc[:99, cols]\n",
       "```\n",
       "or \n",
       "```python\n",
       "cols_idx = [0, 11]\n",
       "df = reviews.iloc[:100, cols_idx]\n",
       "```\n"
      ],
      "text/plain": [
       "Correct: \n",
       "\n",
       "\n",
       "```python\n",
       "cols = ['country', 'variety']\n",
       "df = reviews.loc[:99, cols]\n",
       "```\n",
       "or \n",
       "```python\n",
       "cols_idx = [0, 11]\n",
       "df = reviews.iloc[:100, cols_idx]\n",
       "```"
      ]
     },
     "metadata": {},
     "output_type": "display_data"
    }
   ],
   "source": [
    "df = reviews.loc[:99, ['country', 'variety']]\n",
    "\n",
    "# Check your answer\n",
    "q7.check()"
   ]
  },
  {
   "cell_type": "code",
   "execution_count": 16,
   "id": "23609749",
   "metadata": {
    "execution": {
     "iopub.execute_input": "2022-05-30T22:30:39.401316Z",
     "iopub.status.busy": "2022-05-30T22:30:39.400543Z",
     "iopub.status.idle": "2022-05-30T22:30:39.404128Z",
     "shell.execute_reply": "2022-05-30T22:30:39.403395Z"
    },
    "papermill": {
     "duration": 0.019321,
     "end_time": "2022-05-30T22:30:39.406181",
     "exception": false,
     "start_time": "2022-05-30T22:30:39.386860",
     "status": "completed"
    },
    "tags": []
   },
   "outputs": [],
   "source": [
    "#q7.hint()\n",
    "#q7.solution()"
   ]
  },
  {
   "cell_type": "markdown",
   "id": "62f0c9f1",
   "metadata": {
    "papermill": {
     "duration": 0.011656,
     "end_time": "2022-05-30T22:30:39.430135",
     "exception": false,
     "start_time": "2022-05-30T22:30:39.418479",
     "status": "completed"
    },
    "tags": []
   },
   "source": [
    "## 8.\n",
    "\n",
    "Create a DataFrame `italian_wines` containing reviews of wines made in `Italy`. Hint: `reviews.country` equals what?"
   ]
  },
  {
   "cell_type": "code",
   "execution_count": 17,
   "id": "487fc1fe",
   "metadata": {
    "execution": {
     "iopub.execute_input": "2022-05-30T22:30:39.455762Z",
     "iopub.status.busy": "2022-05-30T22:30:39.455323Z",
     "iopub.status.idle": "2022-05-30T22:30:39.489730Z",
     "shell.execute_reply": "2022-05-30T22:30:39.488790Z"
    },
    "papermill": {
     "duration": 0.049509,
     "end_time": "2022-05-30T22:30:39.491748",
     "exception": false,
     "start_time": "2022-05-30T22:30:39.442239",
     "status": "completed"
    },
    "tags": []
   },
   "outputs": [
    {
     "data": {
      "application/javascript": [
       "parent.postMessage({\"jupyterEvent\": \"custom.exercise_interaction\", \"data\": {\"outcomeType\": 1, \"valueTowardsCompletion\": 0.1111111111111111, \"interactionType\": 1, \"questionType\": 1, \"questionId\": \"8_ItalianWines\", \"learnToolsVersion\": \"0.3.4\", \"failureMessage\": \"\", \"exceptionClass\": \"\", \"trace\": \"\"}}, \"*\")"
      ],
      "text/plain": [
       "<IPython.core.display.Javascript object>"
      ]
     },
     "metadata": {},
     "output_type": "display_data"
    },
    {
     "data": {
      "text/markdown": [
       "<span style=\"color:#33cc33\">Correct</span>"
      ],
      "text/plain": [
       "Correct"
      ]
     },
     "metadata": {},
     "output_type": "display_data"
    }
   ],
   "source": [
    "italian_wines = reviews[reviews.country == 'Italy']\n",
    "\n",
    "# Check your answer\n",
    "q8.check()"
   ]
  },
  {
   "cell_type": "code",
   "execution_count": 18,
   "id": "76f18da3",
   "metadata": {
    "execution": {
     "iopub.execute_input": "2022-05-30T22:30:39.518052Z",
     "iopub.status.busy": "2022-05-30T22:30:39.517648Z",
     "iopub.status.idle": "2022-05-30T22:30:39.521590Z",
     "shell.execute_reply": "2022-05-30T22:30:39.520696Z"
    },
    "papermill": {
     "duration": 0.019288,
     "end_time": "2022-05-30T22:30:39.523437",
     "exception": false,
     "start_time": "2022-05-30T22:30:39.504149",
     "status": "completed"
    },
    "tags": []
   },
   "outputs": [],
   "source": [
    "#q8.hint()\n",
    "#q8.solution()"
   ]
  },
  {
   "cell_type": "markdown",
   "id": "9eb82a7b",
   "metadata": {
    "papermill": {
     "duration": 0.011821,
     "end_time": "2022-05-30T22:30:39.547657",
     "exception": false,
     "start_time": "2022-05-30T22:30:39.535836",
     "status": "completed"
    },
    "tags": []
   },
   "source": [
    "## 9.\n",
    "\n",
    "Create a DataFrame `top_oceania_wines` containing all reviews with at least 95 points (out of 100) for wines from Australia or New Zealand."
   ]
  },
  {
   "cell_type": "code",
   "execution_count": 19,
   "id": "eec91e94",
   "metadata": {
    "execution": {
     "iopub.execute_input": "2022-05-30T22:30:39.573848Z",
     "iopub.status.busy": "2022-05-30T22:30:39.573449Z",
     "iopub.status.idle": "2022-05-30T22:30:39.590685Z",
     "shell.execute_reply": "2022-05-30T22:30:39.589487Z"
    },
    "papermill": {
     "duration": 0.032901,
     "end_time": "2022-05-30T22:30:39.592691",
     "exception": false,
     "start_time": "2022-05-30T22:30:39.559790",
     "status": "completed"
    },
    "tags": []
   },
   "outputs": [
    {
     "data": {
      "application/javascript": [
       "parent.postMessage({\"jupyterEvent\": \"custom.exercise_interaction\", \"data\": {\"outcomeType\": 1, \"valueTowardsCompletion\": 0.1111111111111111, \"interactionType\": 1, \"questionType\": 1, \"questionId\": \"9_TopOceanicWines\", \"learnToolsVersion\": \"0.3.4\", \"failureMessage\": \"\", \"exceptionClass\": \"\", \"trace\": \"\"}}, \"*\")"
      ],
      "text/plain": [
       "<IPython.core.display.Javascript object>"
      ]
     },
     "metadata": {},
     "output_type": "display_data"
    },
    {
     "data": {
      "text/markdown": [
       "<span style=\"color:#33cc33\">Correct</span>"
      ],
      "text/plain": [
       "Correct"
      ]
     },
     "metadata": {},
     "output_type": "display_data"
    }
   ],
   "source": [
    "top_oceania_wines = reviews.loc[(reviews.country.isin(['Australia', 'New Zealand'])) & (reviews.points >= 95)]\n",
    "\n",
    "# Check your answer\n",
    "q9.check()"
   ]
  },
  {
   "cell_type": "code",
   "execution_count": 20,
   "id": "86a027a6",
   "metadata": {
    "execution": {
     "iopub.execute_input": "2022-05-30T22:30:39.619668Z",
     "iopub.status.busy": "2022-05-30T22:30:39.618976Z",
     "iopub.status.idle": "2022-05-30T22:30:39.623142Z",
     "shell.execute_reply": "2022-05-30T22:30:39.622178Z"
    },
    "papermill": {
     "duration": 0.019888,
     "end_time": "2022-05-30T22:30:39.625158",
     "exception": false,
     "start_time": "2022-05-30T22:30:39.605270",
     "status": "completed"
    },
    "tags": []
   },
   "outputs": [],
   "source": [
    "#q9.hint()\n",
    "#q9.solution()"
   ]
  },
  {
   "cell_type": "markdown",
   "id": "badedeaf",
   "metadata": {
    "papermill": {
     "duration": 0.012468,
     "end_time": "2022-05-30T22:30:39.650950",
     "exception": false,
     "start_time": "2022-05-30T22:30:39.638482",
     "status": "completed"
    },
    "tags": []
   },
   "source": [
    "# Keep going\n",
    "\n",
    "Move on to learn about **[summary functions and maps](https://www.kaggle.com/residentmario/summary-functions-and-maps)**."
   ]
  },
  {
   "cell_type": "markdown",
   "id": "e2836bfa",
   "metadata": {
    "papermill": {
     "duration": 0.01225,
     "end_time": "2022-05-30T22:30:39.675819",
     "exception": false,
     "start_time": "2022-05-30T22:30:39.663569",
     "status": "completed"
    },
    "tags": []
   },
   "source": [
    "---\n",
    "\n",
    "\n",
    "\n",
    "\n",
    "*Have questions or comments? Visit the [course discussion forum](https://www.kaggle.com/learn/pandas/discussion) to chat with other learners.*"
   ]
  }
 ],
 "metadata": {
  "kernelspec": {
   "display_name": "Python 3",
   "language": "python",
   "name": "python3"
  },
  "language_info": {
   "codemirror_mode": {
    "name": "ipython",
    "version": 3
   },
   "file_extension": ".py",
   "mimetype": "text/x-python",
   "name": "python",
   "nbconvert_exporter": "python",
   "pygments_lexer": "ipython3",
   "version": "3.7.12"
  },
  "papermill": {
   "default_parameters": {},
   "duration": 14.911956,
   "end_time": "2022-05-30T22:30:40.409340",
   "environment_variables": {},
   "exception": null,
   "input_path": "__notebook__.ipynb",
   "output_path": "__notebook__.ipynb",
   "parameters": {},
   "start_time": "2022-05-30T22:30:25.497384",
   "version": "2.3.4"
  }
 },
 "nbformat": 4,
 "nbformat_minor": 5
}
