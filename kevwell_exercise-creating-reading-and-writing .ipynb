{
 "cells": [
  {
   "cell_type": "markdown",
   "id": "def19913",
   "metadata": {
    "papermill": {
     "duration": 0.008043,
     "end_time": "2022-05-30T21:38:30.300670",
     "exception": false,
     "start_time": "2022-05-30T21:38:30.292627",
     "status": "completed"
    },
    "tags": []
   },
   "source": [
    "**This notebook is an exercise in the [Pandas](https://www.kaggle.com/learn/pandas) course.  You can reference the tutorial at [this link](https://www.kaggle.com/residentmario/creating-reading-and-writing).**\n",
    "\n",
    "---\n"
   ]
  },
  {
   "cell_type": "markdown",
   "id": "2424e05e",
   "metadata": {
    "papermill": {
     "duration": 0.004195,
     "end_time": "2022-05-30T21:38:30.309412",
     "exception": false,
     "start_time": "2022-05-30T21:38:30.305217",
     "status": "completed"
    },
    "tags": []
   },
   "source": [
    "# Introduction\n",
    "\n",
    "The first step in most data analytics projects is reading the data file. In this exercise, you'll create Series and DataFrame objects, both by hand and by reading data files.\n",
    "\n",
    "Run the code cell below to load libraries you will need (including code to check your answers)."
   ]
  },
  {
   "cell_type": "code",
   "execution_count": 1,
   "id": "fc79b335",
   "metadata": {
    "execution": {
     "iopub.execute_input": "2022-05-30T21:38:30.320785Z",
     "iopub.status.busy": "2022-05-30T21:38:30.319956Z",
     "iopub.status.idle": "2022-05-30T21:38:31.788067Z",
     "shell.execute_reply": "2022-05-30T21:38:31.787250Z"
    },
    "papermill": {
     "duration": 1.476493,
     "end_time": "2022-05-30T21:38:31.790580",
     "exception": false,
     "start_time": "2022-05-30T21:38:30.314087",
     "status": "completed"
    },
    "tags": []
   },
   "outputs": [
    {
     "name": "stdout",
     "output_type": "stream",
     "text": [
      "Setup complete.\n"
     ]
    }
   ],
   "source": [
    "import pandas as pd\n",
    "pd.set_option('max_rows', 5)\n",
    "from learntools.core import binder; binder.bind(globals())\n",
    "from learntools.pandas.creating_reading_and_writing import *\n",
    "print(\"Setup complete.\")"
   ]
  },
  {
   "cell_type": "markdown",
   "id": "df29a978",
   "metadata": {
    "papermill": {
     "duration": 0.00419,
     "end_time": "2022-05-30T21:38:31.799378",
     "exception": false,
     "start_time": "2022-05-30T21:38:31.795188",
     "status": "completed"
    },
    "tags": []
   },
   "source": [
    "# Exercises"
   ]
  },
  {
   "cell_type": "markdown",
   "id": "66fc971d",
   "metadata": {
    "papermill": {
     "duration": 0.004261,
     "end_time": "2022-05-30T21:38:31.808100",
     "exception": false,
     "start_time": "2022-05-30T21:38:31.803839",
     "status": "completed"
    },
    "tags": []
   },
   "source": [
    "## 1.\n",
    "\n",
    "In the cell below, create a DataFrame `fruits` that looks like this:\n",
    "\n",
    "![](https://i.imgur.com/Ax3pp2A.png)"
   ]
  },
  {
   "cell_type": "code",
   "execution_count": 2,
   "id": "cad52c87",
   "metadata": {
    "execution": {
     "iopub.execute_input": "2022-05-30T21:38:31.819582Z",
     "iopub.status.busy": "2022-05-30T21:38:31.819140Z",
     "iopub.status.idle": "2022-05-30T21:38:31.844351Z",
     "shell.execute_reply": "2022-05-30T21:38:31.843416Z"
    },
    "papermill": {
     "duration": 0.034014,
     "end_time": "2022-05-30T21:38:31.847172",
     "exception": false,
     "start_time": "2022-05-30T21:38:31.813158",
     "status": "completed"
    },
    "tags": []
   },
   "outputs": [
    {
     "data": {
      "application/javascript": [
       "parent.postMessage({\"jupyterEvent\": \"custom.exercise_interaction\", \"data\": {\"outcomeType\": 1, \"valueTowardsCompletion\": 0.16666666666666666, \"interactionType\": 1, \"questionType\": 1, \"questionId\": \"1_FruitDfCreation\", \"learnToolsVersion\": \"0.3.4\", \"failureMessage\": \"\", \"exceptionClass\": \"\", \"trace\": \"\"}}, \"*\")"
      ],
      "text/plain": [
       "<IPython.core.display.Javascript object>"
      ]
     },
     "metadata": {},
     "output_type": "display_data"
    },
    {
     "data": {
      "text/markdown": [
       "<span style=\"color:#33cc33\">Correct</span>"
      ],
      "text/plain": [
       "Correct"
      ]
     },
     "metadata": {},
     "output_type": "display_data"
    },
    {
     "data": {
      "text/html": [
       "<div>\n",
       "<style scoped>\n",
       "    .dataframe tbody tr th:only-of-type {\n",
       "        vertical-align: middle;\n",
       "    }\n",
       "\n",
       "    .dataframe tbody tr th {\n",
       "        vertical-align: top;\n",
       "    }\n",
       "\n",
       "    .dataframe thead th {\n",
       "        text-align: right;\n",
       "    }\n",
       "</style>\n",
       "<table border=\"1\" class=\"dataframe\">\n",
       "  <thead>\n",
       "    <tr style=\"text-align: right;\">\n",
       "      <th></th>\n",
       "      <th>Apples</th>\n",
       "      <th>Bananas</th>\n",
       "    </tr>\n",
       "  </thead>\n",
       "  <tbody>\n",
       "    <tr>\n",
       "      <th>0</th>\n",
       "      <td>30</td>\n",
       "      <td>21</td>\n",
       "    </tr>\n",
       "  </tbody>\n",
       "</table>\n",
       "</div>"
      ],
      "text/plain": [
       "   Apples  Bananas\n",
       "0      30       21"
      ]
     },
     "execution_count": 2,
     "metadata": {},
     "output_type": "execute_result"
    }
   ],
   "source": [
    "# Your code goes here. Create a dataframe matching the above diagram and assign it to the variable fruits.\n",
    "fruits = pd.DataFrame({'Apples': [30], 'Bananas': [21]})\n",
    "\n",
    "# Check your answer\n",
    "q1.check()\n",
    "fruits"
   ]
  },
  {
   "cell_type": "code",
   "execution_count": 3,
   "id": "284b946b",
   "metadata": {
    "execution": {
     "iopub.execute_input": "2022-05-30T21:38:31.858579Z",
     "iopub.status.busy": "2022-05-30T21:38:31.858167Z",
     "iopub.status.idle": "2022-05-30T21:38:31.862623Z",
     "shell.execute_reply": "2022-05-30T21:38:31.861502Z"
    },
    "papermill": {
     "duration": 0.012516,
     "end_time": "2022-05-30T21:38:31.864666",
     "exception": false,
     "start_time": "2022-05-30T21:38:31.852150",
     "status": "completed"
    },
    "tags": []
   },
   "outputs": [],
   "source": [
    "#q1.hint()\n",
    "#q1.solution()"
   ]
  },
  {
   "cell_type": "markdown",
   "id": "45f48cfc",
   "metadata": {
    "papermill": {
     "duration": 0.004504,
     "end_time": "2022-05-30T21:38:31.874258",
     "exception": false,
     "start_time": "2022-05-30T21:38:31.869754",
     "status": "completed"
    },
    "tags": []
   },
   "source": [
    "## 2.\n",
    "\n",
    "Create a dataframe `fruit_sales` that matches the diagram below:\n",
    "\n",
    "![](https://i.imgur.com/CHPn7ZF.png)"
   ]
  },
  {
   "cell_type": "code",
   "execution_count": 4,
   "id": "72d748fe",
   "metadata": {
    "execution": {
     "iopub.execute_input": "2022-05-30T21:38:31.886058Z",
     "iopub.status.busy": "2022-05-30T21:38:31.885110Z",
     "iopub.status.idle": "2022-05-30T21:38:31.900008Z",
     "shell.execute_reply": "2022-05-30T21:38:31.899245Z"
    },
    "papermill": {
     "duration": 0.023087,
     "end_time": "2022-05-30T21:38:31.902056",
     "exception": false,
     "start_time": "2022-05-30T21:38:31.878969",
     "status": "completed"
    },
    "tags": []
   },
   "outputs": [
    {
     "data": {
      "application/javascript": [
       "parent.postMessage({\"jupyterEvent\": \"custom.exercise_interaction\", \"data\": {\"outcomeType\": 1, \"valueTowardsCompletion\": 0.16666666666666666, \"interactionType\": 1, \"questionType\": 1, \"questionId\": \"2_FruitSalesDfCreation\", \"learnToolsVersion\": \"0.3.4\", \"failureMessage\": \"\", \"exceptionClass\": \"\", \"trace\": \"\"}}, \"*\")"
      ],
      "text/plain": [
       "<IPython.core.display.Javascript object>"
      ]
     },
     "metadata": {},
     "output_type": "display_data"
    },
    {
     "data": {
      "text/markdown": [
       "<span style=\"color:#33cc33\">Correct</span>"
      ],
      "text/plain": [
       "Correct"
      ]
     },
     "metadata": {},
     "output_type": "display_data"
    },
    {
     "data": {
      "text/html": [
       "<div>\n",
       "<style scoped>\n",
       "    .dataframe tbody tr th:only-of-type {\n",
       "        vertical-align: middle;\n",
       "    }\n",
       "\n",
       "    .dataframe tbody tr th {\n",
       "        vertical-align: top;\n",
       "    }\n",
       "\n",
       "    .dataframe thead th {\n",
       "        text-align: right;\n",
       "    }\n",
       "</style>\n",
       "<table border=\"1\" class=\"dataframe\">\n",
       "  <thead>\n",
       "    <tr style=\"text-align: right;\">\n",
       "      <th></th>\n",
       "      <th>Apples</th>\n",
       "      <th>Bananas</th>\n",
       "    </tr>\n",
       "  </thead>\n",
       "  <tbody>\n",
       "    <tr>\n",
       "      <th>2017 Sales</th>\n",
       "      <td>35</td>\n",
       "      <td>21</td>\n",
       "    </tr>\n",
       "    <tr>\n",
       "      <th>2018 Sales</th>\n",
       "      <td>41</td>\n",
       "      <td>34</td>\n",
       "    </tr>\n",
       "  </tbody>\n",
       "</table>\n",
       "</div>"
      ],
      "text/plain": [
       "            Apples  Bananas\n",
       "2017 Sales      35       21\n",
       "2018 Sales      41       34"
      ]
     },
     "execution_count": 4,
     "metadata": {},
     "output_type": "execute_result"
    }
   ],
   "source": [
    "# Your code goes here. Create a dataframe matching the above diagram and assign it to the variable fruit_sales.\n",
    "fruit_sales = pd.DataFrame([[35, 21], [41, 34]], columns=['Apples', 'Bananas'],\n",
    "                index=['2017 Sales', '2018 Sales'])\n",
    "\n",
    "# Check your answer\n",
    "q2.check()\n",
    "fruit_sales"
   ]
  },
  {
   "cell_type": "code",
   "execution_count": 5,
   "id": "7b7de7fe",
   "metadata": {
    "execution": {
     "iopub.execute_input": "2022-05-30T21:38:31.914289Z",
     "iopub.status.busy": "2022-05-30T21:38:31.913652Z",
     "iopub.status.idle": "2022-05-30T21:38:31.917445Z",
     "shell.execute_reply": "2022-05-30T21:38:31.916798Z"
    },
    "papermill": {
     "duration": 0.011808,
     "end_time": "2022-05-30T21:38:31.919204",
     "exception": false,
     "start_time": "2022-05-30T21:38:31.907396",
     "status": "completed"
    },
    "tags": []
   },
   "outputs": [],
   "source": [
    "#q2.hint()\n",
    "#q2.solution()"
   ]
  },
  {
   "cell_type": "markdown",
   "id": "d911a0ac",
   "metadata": {
    "papermill": {
     "duration": 0.004935,
     "end_time": "2022-05-30T21:38:31.929311",
     "exception": false,
     "start_time": "2022-05-30T21:38:31.924376",
     "status": "completed"
    },
    "tags": []
   },
   "source": [
    "## 3.\n",
    "\n",
    "Create a variable `ingredients` with a Series that looks like:\n",
    "\n",
    "```\n",
    "Flour     4 cups\n",
    "Milk       1 cup\n",
    "Eggs     2 large\n",
    "Spam       1 can\n",
    "Name: Dinner, dtype: object\n",
    "```"
   ]
  },
  {
   "cell_type": "code",
   "execution_count": 6,
   "id": "aa4422a3",
   "metadata": {
    "execution": {
     "iopub.execute_input": "2022-05-30T21:38:31.941329Z",
     "iopub.status.busy": "2022-05-30T21:38:31.940736Z",
     "iopub.status.idle": "2022-05-30T21:38:31.952909Z",
     "shell.execute_reply": "2022-05-30T21:38:31.952154Z"
    },
    "papermill": {
     "duration": 0.020328,
     "end_time": "2022-05-30T21:38:31.954686",
     "exception": false,
     "start_time": "2022-05-30T21:38:31.934358",
     "status": "completed"
    },
    "tags": []
   },
   "outputs": [
    {
     "data": {
      "application/javascript": [
       "parent.postMessage({\"jupyterEvent\": \"custom.exercise_interaction\", \"data\": {\"outcomeType\": 1, \"valueTowardsCompletion\": 0.16666666666666666, \"interactionType\": 1, \"questionType\": 2, \"questionId\": \"3_RecipeSeriesCreation\", \"learnToolsVersion\": \"0.3.4\", \"failureMessage\": \"\", \"exceptionClass\": \"\", \"trace\": \"\"}}, \"*\")"
      ],
      "text/plain": [
       "<IPython.core.display.Javascript object>"
      ]
     },
     "metadata": {},
     "output_type": "display_data"
    },
    {
     "data": {
      "text/markdown": [
       "<span style=\"color:#33cc33\">Correct</span>"
      ],
      "text/plain": [
       "Correct"
      ]
     },
     "metadata": {},
     "output_type": "display_data"
    },
    {
     "data": {
      "text/plain": [
       "Flour     4 cups\n",
       "Milk       1 cup\n",
       "Eggs     2 large\n",
       "Spam       1 can\n",
       "Name: Dinner, dtype: object"
      ]
     },
     "execution_count": 6,
     "metadata": {},
     "output_type": "execute_result"
    }
   ],
   "source": [
    "ingredients = pd.Series(['4 cups', '1 cup', '2 large', '1 can'], index=['Flour', 'Milk', 'Eggs', 'Spam'], name='Dinner')\n",
    "\n",
    "# Check your answer\n",
    "q3.check()\n",
    "ingredients"
   ]
  },
  {
   "cell_type": "code",
   "execution_count": 7,
   "id": "70823030",
   "metadata": {
    "execution": {
     "iopub.execute_input": "2022-05-30T21:38:31.967145Z",
     "iopub.status.busy": "2022-05-30T21:38:31.966585Z",
     "iopub.status.idle": "2022-05-30T21:38:31.974408Z",
     "shell.execute_reply": "2022-05-30T21:38:31.973552Z"
    },
    "papermill": {
     "duration": 0.016129,
     "end_time": "2022-05-30T21:38:31.976183",
     "exception": false,
     "start_time": "2022-05-30T21:38:31.960054",
     "status": "completed"
    },
    "tags": []
   },
   "outputs": [
    {
     "data": {
      "application/javascript": [
       "parent.postMessage({\"jupyterEvent\": \"custom.exercise_interaction\", \"data\": {\"interactionType\": 3, \"questionType\": 2, \"questionId\": \"3_RecipeSeriesCreation\", \"learnToolsVersion\": \"0.3.4\", \"valueTowardsCompletion\": 0.0, \"failureMessage\": \"\", \"exceptionClass\": \"\", \"trace\": \"\", \"outcomeType\": 4}}, \"*\")"
      ],
      "text/plain": [
       "<IPython.core.display.Javascript object>"
      ]
     },
     "metadata": {},
     "output_type": "display_data"
    },
    {
     "data": {
      "text/markdown": [
       "<span style=\"color:#33cc99\">Solution:</span> \n",
       "```python\n",
       "quantities = ['4 cups', '1 cup', '2 large', '1 can']\n",
       "items = ['Flour', 'Milk', 'Eggs', 'Spam']\n",
       "recipe = pd.Series(quantities, index=items, name='Dinner')\n",
       "```"
      ],
      "text/plain": [
       "Solution: \n",
       "```python\n",
       "quantities = ['4 cups', '1 cup', '2 large', '1 can']\n",
       "items = ['Flour', 'Milk', 'Eggs', 'Spam']\n",
       "recipe = pd.Series(quantities, index=items, name='Dinner')\n",
       "```"
      ]
     },
     "metadata": {},
     "output_type": "display_data"
    }
   ],
   "source": [
    "#q3.hint()\n",
    "q3.solution()"
   ]
  },
  {
   "cell_type": "markdown",
   "id": "42aa4f5f",
   "metadata": {
    "papermill": {
     "duration": 0.00532,
     "end_time": "2022-05-30T21:38:31.987100",
     "exception": false,
     "start_time": "2022-05-30T21:38:31.981780",
     "status": "completed"
    },
    "tags": []
   },
   "source": [
    "## 4.\n",
    "\n",
    "Read the following csv dataset of wine reviews into a DataFrame called `reviews`:\n",
    "\n",
    "![](https://i.imgur.com/74RCZtU.png)\n",
    "\n",
    "The filepath to the csv file is `../input/wine-reviews/winemag-data_first150k.csv`. The first few lines look like:\n",
    "\n",
    "```\n",
    ",country,description,designation,points,price,province,region_1,region_2,variety,winery\n",
    "0,US,\"This tremendous 100% varietal wine[...]\",Martha's Vineyard,96,235.0,California,Napa Valley,Napa,Cabernet Sauvignon,Heitz\n",
    "1,Spain,\"Ripe aromas of fig, blackberry and[...]\",Carodorum Selección Especial Reserva,96,110.0,Northern Spain,Toro,,Tinta de Toro,Bodega Carmen Rodríguez\n",
    "```"
   ]
  },
  {
   "cell_type": "code",
   "execution_count": 8,
   "id": "c7aa5d23",
   "metadata": {
    "execution": {
     "iopub.execute_input": "2022-05-30T21:38:32.000266Z",
     "iopub.status.busy": "2022-05-30T21:38:31.999611Z",
     "iopub.status.idle": "2022-05-30T21:38:32.886597Z",
     "shell.execute_reply": "2022-05-30T21:38:32.885749Z"
    },
    "papermill": {
     "duration": 0.895956,
     "end_time": "2022-05-30T21:38:32.888725",
     "exception": false,
     "start_time": "2022-05-30T21:38:31.992769",
     "status": "completed"
    },
    "tags": []
   },
   "outputs": [
    {
     "data": {
      "application/javascript": [
       "parent.postMessage({\"jupyterEvent\": \"custom.exercise_interaction\", \"data\": {\"outcomeType\": 1, \"valueTowardsCompletion\": 0.16666666666666666, \"interactionType\": 1, \"questionType\": 1, \"questionId\": \"4_ReadWineCsv\", \"learnToolsVersion\": \"0.3.4\", \"failureMessage\": \"\", \"exceptionClass\": \"\", \"trace\": \"\"}}, \"*\")"
      ],
      "text/plain": [
       "<IPython.core.display.Javascript object>"
      ]
     },
     "metadata": {},
     "output_type": "display_data"
    },
    {
     "data": {
      "text/markdown": [
       "<span style=\"color:#33cc33\">Correct</span>"
      ],
      "text/plain": [
       "Correct"
      ]
     },
     "metadata": {},
     "output_type": "display_data"
    }
   ],
   "source": [
    "reviews = pd.read_csv('../input/wine-reviews/winemag-data_first150k.csv', index_col=0)\n",
    "\n",
    "# Check your answer\n",
    "q4.check()"
   ]
  },
  {
   "cell_type": "code",
   "execution_count": 9,
   "id": "845850db",
   "metadata": {
    "execution": {
     "iopub.execute_input": "2022-05-30T21:38:32.901825Z",
     "iopub.status.busy": "2022-05-30T21:38:32.901221Z",
     "iopub.status.idle": "2022-05-30T21:38:32.905125Z",
     "shell.execute_reply": "2022-05-30T21:38:32.904187Z"
    },
    "papermill": {
     "duration": 0.012619,
     "end_time": "2022-05-30T21:38:32.907026",
     "exception": false,
     "start_time": "2022-05-30T21:38:32.894407",
     "status": "completed"
    },
    "tags": []
   },
   "outputs": [],
   "source": [
    "#q4.hint()\n",
    "#q4.solution()"
   ]
  },
  {
   "cell_type": "markdown",
   "id": "9958f6c3",
   "metadata": {
    "papermill": {
     "duration": 0.005357,
     "end_time": "2022-05-30T21:38:32.918123",
     "exception": false,
     "start_time": "2022-05-30T21:38:32.912766",
     "status": "completed"
    },
    "tags": []
   },
   "source": [
    "## 5.\n",
    "\n",
    "Run the cell below to create and display a DataFrame called `animals`:"
   ]
  },
  {
   "cell_type": "code",
   "execution_count": 10,
   "id": "bb45a31e",
   "metadata": {
    "execution": {
     "iopub.execute_input": "2022-05-30T21:38:32.930843Z",
     "iopub.status.busy": "2022-05-30T21:38:32.930402Z",
     "iopub.status.idle": "2022-05-30T21:38:32.940641Z",
     "shell.execute_reply": "2022-05-30T21:38:32.939670Z"
    },
    "papermill": {
     "duration": 0.018728,
     "end_time": "2022-05-30T21:38:32.942467",
     "exception": false,
     "start_time": "2022-05-30T21:38:32.923739",
     "status": "completed"
    },
    "tags": []
   },
   "outputs": [
    {
     "data": {
      "text/html": [
       "<div>\n",
       "<style scoped>\n",
       "    .dataframe tbody tr th:only-of-type {\n",
       "        vertical-align: middle;\n",
       "    }\n",
       "\n",
       "    .dataframe tbody tr th {\n",
       "        vertical-align: top;\n",
       "    }\n",
       "\n",
       "    .dataframe thead th {\n",
       "        text-align: right;\n",
       "    }\n",
       "</style>\n",
       "<table border=\"1\" class=\"dataframe\">\n",
       "  <thead>\n",
       "    <tr style=\"text-align: right;\">\n",
       "      <th></th>\n",
       "      <th>Cows</th>\n",
       "      <th>Goats</th>\n",
       "    </tr>\n",
       "  </thead>\n",
       "  <tbody>\n",
       "    <tr>\n",
       "      <th>Year 1</th>\n",
       "      <td>12</td>\n",
       "      <td>22</td>\n",
       "    </tr>\n",
       "    <tr>\n",
       "      <th>Year 2</th>\n",
       "      <td>20</td>\n",
       "      <td>19</td>\n",
       "    </tr>\n",
       "  </tbody>\n",
       "</table>\n",
       "</div>"
      ],
      "text/plain": [
       "        Cows  Goats\n",
       "Year 1    12     22\n",
       "Year 2    20     19"
      ]
     },
     "execution_count": 10,
     "metadata": {},
     "output_type": "execute_result"
    }
   ],
   "source": [
    "animals = pd.DataFrame({'Cows': [12, 20], 'Goats': [22, 19]}, index=['Year 1', 'Year 2'])\n",
    "animals"
   ]
  },
  {
   "cell_type": "markdown",
   "id": "72cff004",
   "metadata": {
    "papermill": {
     "duration": 0.005387,
     "end_time": "2022-05-30T21:38:32.953675",
     "exception": false,
     "start_time": "2022-05-30T21:38:32.948288",
     "status": "completed"
    },
    "tags": []
   },
   "source": [
    "In the cell below, write code to save this DataFrame to disk as a csv file with the name `cows_and_goats.csv`."
   ]
  },
  {
   "cell_type": "code",
   "execution_count": 11,
   "id": "5dbb8738",
   "metadata": {
    "execution": {
     "iopub.execute_input": "2022-05-30T21:38:32.967362Z",
     "iopub.status.busy": "2022-05-30T21:38:32.966175Z",
     "iopub.status.idle": "2022-05-30T21:38:32.980586Z",
     "shell.execute_reply": "2022-05-30T21:38:32.979788Z"
    },
    "papermill": {
     "duration": 0.023104,
     "end_time": "2022-05-30T21:38:32.982379",
     "exception": false,
     "start_time": "2022-05-30T21:38:32.959275",
     "status": "completed"
    },
    "tags": []
   },
   "outputs": [
    {
     "data": {
      "application/javascript": [
       "parent.postMessage({\"jupyterEvent\": \"custom.exercise_interaction\", \"data\": {\"outcomeType\": 1, \"valueTowardsCompletion\": 0.16666666666666666, \"interactionType\": 1, \"questionType\": 2, \"questionId\": \"5_SaveAnimalsCsv\", \"learnToolsVersion\": \"0.3.4\", \"failureMessage\": \"\", \"exceptionClass\": \"\", \"trace\": \"\"}}, \"*\")"
      ],
      "text/plain": [
       "<IPython.core.display.Javascript object>"
      ]
     },
     "metadata": {},
     "output_type": "display_data"
    },
    {
     "data": {
      "text/markdown": [
       "<span style=\"color:#33cc33\">Correct</span>"
      ],
      "text/plain": [
       "Correct"
      ]
     },
     "metadata": {},
     "output_type": "display_data"
    }
   ],
   "source": [
    "# Your code goes here\n",
    "animals.to_csv('cows_and_goats.csv')\n",
    "# Check your answer\n",
    "q5.check()"
   ]
  },
  {
   "cell_type": "code",
   "execution_count": 12,
   "id": "11ba2e1c",
   "metadata": {
    "execution": {
     "iopub.execute_input": "2022-05-30T21:38:32.996968Z",
     "iopub.status.busy": "2022-05-30T21:38:32.995848Z",
     "iopub.status.idle": "2022-05-30T21:38:32.999757Z",
     "shell.execute_reply": "2022-05-30T21:38:32.999042Z"
    },
    "papermill": {
     "duration": 0.012817,
     "end_time": "2022-05-30T21:38:33.001400",
     "exception": false,
     "start_time": "2022-05-30T21:38:32.988583",
     "status": "completed"
    },
    "tags": []
   },
   "outputs": [],
   "source": [
    "#q5.hint()\n",
    "#q5.solution()"
   ]
  },
  {
   "cell_type": "markdown",
   "id": "d6b6b30f",
   "metadata": {
    "papermill": {
     "duration": 0.005774,
     "end_time": "2022-05-30T21:38:33.013178",
     "exception": false,
     "start_time": "2022-05-30T21:38:33.007404",
     "status": "completed"
    },
    "tags": []
   },
   "source": [
    "# Keep going\n",
    "\n",
    "Move on to learn about **[indexing, selecting and assigning](https://www.kaggle.com/residentmario/indexing-selecting-assigning)**."
   ]
  },
  {
   "cell_type": "markdown",
   "id": "4027656b",
   "metadata": {
    "papermill": {
     "duration": 0.005642,
     "end_time": "2022-05-30T21:38:33.024925",
     "exception": false,
     "start_time": "2022-05-30T21:38:33.019283",
     "status": "completed"
    },
    "tags": []
   },
   "source": [
    "---\n",
    "\n",
    "\n",
    "\n",
    "\n",
    "*Have questions or comments? Visit the [course discussion forum](https://www.kaggle.com/learn/pandas/discussion) to chat with other learners.*"
   ]
  }
 ],
 "metadata": {
  "kernelspec": {
   "display_name": "Python 3",
   "language": "python",
   "name": "python3"
  },
  "language_info": {
   "codemirror_mode": {
    "name": "ipython",
    "version": 3
   },
   "file_extension": ".py",
   "mimetype": "text/x-python",
   "name": "python",
   "nbconvert_exporter": "python",
   "pygments_lexer": "ipython3",
   "version": "3.7.12"
  },
  "papermill": {
   "default_parameters": {},
   "duration": 12.751419,
   "end_time": "2022-05-30T21:38:33.752014",
   "environment_variables": {},
   "exception": null,
   "input_path": "__notebook__.ipynb",
   "output_path": "__notebook__.ipynb",
   "parameters": {},
   "start_time": "2022-05-30T21:38:21.000595",
   "version": "2.3.4"
  }
 },
 "nbformat": 4,
 "nbformat_minor": 5
}
