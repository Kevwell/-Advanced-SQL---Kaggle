{
 "cells": [
  {
   "cell_type": "markdown",
   "id": "047da5d8",
   "metadata": {
    "papermill": {
     "duration": 0.006704,
     "end_time": "2022-05-31T07:02:53.154734",
     "exception": false,
     "start_time": "2022-05-31T07:02:53.148030",
     "status": "completed"
    },
    "tags": []
   },
   "source": [
    "**This notebook is an exercise in the [Pandas](https://www.kaggle.com/learn/pandas) course.  You can reference the tutorial at [this link](https://www.kaggle.com/residentmario/data-types-and-missing-values).**\n",
    "\n",
    "---\n"
   ]
  },
  {
   "cell_type": "markdown",
   "id": "ea2587bd",
   "metadata": {
    "papermill": {
     "duration": 0.00348,
     "end_time": "2022-05-31T07:02:53.162170",
     "exception": false,
     "start_time": "2022-05-31T07:02:53.158690",
     "status": "completed"
    },
    "tags": []
   },
   "source": [
    "# Introduction\n",
    "\n",
    "Run the following cell to load your data and some utility functions."
   ]
  },
  {
   "cell_type": "code",
   "execution_count": 1,
   "id": "b9b227e3",
   "metadata": {
    "execution": {
     "iopub.execute_input": "2022-05-31T07:02:53.171779Z",
     "iopub.status.busy": "2022-05-31T07:02:53.171221Z",
     "iopub.status.idle": "2022-05-31T07:02:56.423944Z",
     "shell.execute_reply": "2022-05-31T07:02:56.423116Z"
    },
    "papermill": {
     "duration": 3.261387,
     "end_time": "2022-05-31T07:02:56.427372",
     "exception": false,
     "start_time": "2022-05-31T07:02:53.165985",
     "status": "completed"
    },
    "tags": []
   },
   "outputs": [
    {
     "name": "stdout",
     "output_type": "stream",
     "text": [
      "Setup complete.\n"
     ]
    }
   ],
   "source": [
    "import pandas as pd\n",
    "\n",
    "reviews = pd.read_csv(\"../input/wine-reviews/winemag-data-130k-v2.csv\", index_col=0)\n",
    "\n",
    "from learntools.core import binder; binder.bind(globals())\n",
    "from learntools.pandas.data_types_and_missing_data import *\n",
    "print(\"Setup complete.\")"
   ]
  },
  {
   "cell_type": "markdown",
   "id": "9b39d8b0",
   "metadata": {
    "papermill": {
     "duration": 0.006312,
     "end_time": "2022-05-31T07:02:56.440232",
     "exception": false,
     "start_time": "2022-05-31T07:02:56.433920",
     "status": "completed"
    },
    "tags": []
   },
   "source": [
    "# Exercises"
   ]
  },
  {
   "cell_type": "markdown",
   "id": "9f1803ab",
   "metadata": {
    "papermill": {
     "duration": 0.006131,
     "end_time": "2022-05-31T07:02:56.453099",
     "exception": false,
     "start_time": "2022-05-31T07:02:56.446968",
     "status": "completed"
    },
    "tags": []
   },
   "source": [
    "## 1. \n",
    "What is the data type of the `points` column in the dataset?"
   ]
  },
  {
   "cell_type": "code",
   "execution_count": 2,
   "id": "049d8aa5",
   "metadata": {
    "execution": {
     "iopub.execute_input": "2022-05-31T07:02:56.468081Z",
     "iopub.status.busy": "2022-05-31T07:02:56.467562Z",
     "iopub.status.idle": "2022-05-31T07:02:56.480266Z",
     "shell.execute_reply": "2022-05-31T07:02:56.479354Z"
    },
    "papermill": {
     "duration": 0.022032,
     "end_time": "2022-05-31T07:02:56.482793",
     "exception": false,
     "start_time": "2022-05-31T07:02:56.460761",
     "status": "completed"
    },
    "tags": []
   },
   "outputs": [
    {
     "data": {
      "application/javascript": [
       "parent.postMessage({\"jupyterEvent\": \"custom.exercise_interaction\", \"data\": {\"outcomeType\": 1, \"valueTowardsCompletion\": 0.25, \"interactionType\": 1, \"questionType\": 1, \"questionId\": \"1_PointsDtype\", \"learnToolsVersion\": \"0.3.4\", \"failureMessage\": \"\", \"exceptionClass\": \"\", \"trace\": \"\"}}, \"*\")"
      ],
      "text/plain": [
       "<IPython.core.display.Javascript object>"
      ]
     },
     "metadata": {},
     "output_type": "display_data"
    },
    {
     "data": {
      "text/markdown": [
       "<span style=\"color:#33cc33\">Correct</span>"
      ],
      "text/plain": [
       "Correct"
      ]
     },
     "metadata": {},
     "output_type": "display_data"
    }
   ],
   "source": [
    "# Your code here\n",
    "dtype = reviews.points.dtype\n",
    "\n",
    "# Check your answer\n",
    "q1.check()"
   ]
  },
  {
   "cell_type": "code",
   "execution_count": 3,
   "id": "96aa07c1",
   "metadata": {
    "execution": {
     "iopub.execute_input": "2022-05-31T07:02:56.494800Z",
     "iopub.status.busy": "2022-05-31T07:02:56.493493Z",
     "iopub.status.idle": "2022-05-31T07:02:56.497989Z",
     "shell.execute_reply": "2022-05-31T07:02:56.496963Z"
    },
    "papermill": {
     "duration": 0.012722,
     "end_time": "2022-05-31T07:02:56.500357",
     "exception": false,
     "start_time": "2022-05-31T07:02:56.487635",
     "status": "completed"
    },
    "tags": []
   },
   "outputs": [],
   "source": [
    "#q1.hint()\n",
    "#q1.solution()"
   ]
  },
  {
   "cell_type": "markdown",
   "id": "ba336dc9",
   "metadata": {
    "papermill": {
     "duration": 0.004554,
     "end_time": "2022-05-31T07:02:56.509766",
     "exception": false,
     "start_time": "2022-05-31T07:02:56.505212",
     "status": "completed"
    },
    "tags": []
   },
   "source": [
    "## 2. \n",
    "Create a Series from entries in the `points` column, but convert the entries to strings. Hint: strings are `str` in native Python."
   ]
  },
  {
   "cell_type": "code",
   "execution_count": 4,
   "id": "4b204c90",
   "metadata": {
    "execution": {
     "iopub.execute_input": "2022-05-31T07:02:56.522782Z",
     "iopub.status.busy": "2022-05-31T07:02:56.520948Z",
     "iopub.status.idle": "2022-05-31T07:02:56.596217Z",
     "shell.execute_reply": "2022-05-31T07:02:56.594780Z"
    },
    "papermill": {
     "duration": 0.083993,
     "end_time": "2022-05-31T07:02:56.598710",
     "exception": false,
     "start_time": "2022-05-31T07:02:56.514717",
     "status": "completed"
    },
    "tags": []
   },
   "outputs": [
    {
     "data": {
      "application/javascript": [
       "parent.postMessage({\"jupyterEvent\": \"custom.exercise_interaction\", \"data\": {\"outcomeType\": 1, \"valueTowardsCompletion\": 0.25, \"interactionType\": 1, \"questionType\": 1, \"questionId\": \"2_StrPoints\", \"learnToolsVersion\": \"0.3.4\", \"failureMessage\": \"\", \"exceptionClass\": \"\", \"trace\": \"\"}}, \"*\")"
      ],
      "text/plain": [
       "<IPython.core.display.Javascript object>"
      ]
     },
     "metadata": {},
     "output_type": "display_data"
    },
    {
     "data": {
      "text/markdown": [
       "<span style=\"color:#33cc33\">Correct</span>"
      ],
      "text/plain": [
       "Correct"
      ]
     },
     "metadata": {},
     "output_type": "display_data"
    }
   ],
   "source": [
    "point_strings = reviews.points.astype('str')\n",
    "\n",
    "# Check your answer\n",
    "q2.check()"
   ]
  },
  {
   "cell_type": "code",
   "execution_count": 5,
   "id": "711078ff",
   "metadata": {
    "execution": {
     "iopub.execute_input": "2022-05-31T07:02:56.610631Z",
     "iopub.status.busy": "2022-05-31T07:02:56.609697Z",
     "iopub.status.idle": "2022-05-31T07:02:56.624624Z",
     "shell.execute_reply": "2022-05-31T07:02:56.622927Z"
    },
    "papermill": {
     "duration": 0.023492,
     "end_time": "2022-05-31T07:02:56.627153",
     "exception": false,
     "start_time": "2022-05-31T07:02:56.603661",
     "status": "completed"
    },
    "tags": []
   },
   "outputs": [
    {
     "data": {
      "application/javascript": [
       "parent.postMessage({\"jupyterEvent\": \"custom.exercise_interaction\", \"data\": {\"interactionType\": 2, \"questionType\": 1, \"questionId\": \"2_StrPoints\", \"learnToolsVersion\": \"0.3.4\", \"valueTowardsCompletion\": 0.0, \"failureMessage\": \"\", \"exceptionClass\": \"\", \"trace\": \"\", \"outcomeType\": 4}}, \"*\")"
      ],
      "text/plain": [
       "<IPython.core.display.Javascript object>"
      ]
     },
     "metadata": {},
     "output_type": "display_data"
    },
    {
     "data": {
      "text/markdown": [
       "<span style=\"color:#3366cc\">Hint:</span> Convert a column of one type to another by using the `astype` function."
      ],
      "text/plain": [
       "Hint: Convert a column of one type to another by using the `astype` function."
      ]
     },
     "metadata": {},
     "output_type": "display_data"
    },
    {
     "data": {
      "application/javascript": [
       "parent.postMessage({\"jupyterEvent\": \"custom.exercise_interaction\", \"data\": {\"interactionType\": 3, \"questionType\": 1, \"questionId\": \"2_StrPoints\", \"learnToolsVersion\": \"0.3.4\", \"valueTowardsCompletion\": 0.0, \"failureMessage\": \"\", \"exceptionClass\": \"\", \"trace\": \"\", \"outcomeType\": 4}}, \"*\")"
      ],
      "text/plain": [
       "<IPython.core.display.Javascript object>"
      ]
     },
     "metadata": {},
     "output_type": "display_data"
    },
    {
     "data": {
      "text/markdown": [
       "<span style=\"color:#33cc99\">Solution:</span> \n",
       "```python\n",
       "point_strings = reviews.points.astype(str)\n",
       "```"
      ],
      "text/plain": [
       "Solution: \n",
       "```python\n",
       "point_strings = reviews.points.astype(str)\n",
       "```"
      ]
     },
     "metadata": {},
     "output_type": "display_data"
    }
   ],
   "source": [
    "q2.hint()\n",
    "q2.solution()"
   ]
  },
  {
   "cell_type": "markdown",
   "id": "0a9e0567",
   "metadata": {
    "papermill": {
     "duration": 0.004808,
     "end_time": "2022-05-31T07:02:56.637374",
     "exception": false,
     "start_time": "2022-05-31T07:02:56.632566",
     "status": "completed"
    },
    "tags": []
   },
   "source": [
    "## 3.\n",
    "Sometimes the price column is null. How many reviews in the dataset are missing a price?"
   ]
  },
  {
   "cell_type": "code",
   "execution_count": 6,
   "id": "a902c255",
   "metadata": {
    "execution": {
     "iopub.execute_input": "2022-05-31T07:02:56.650075Z",
     "iopub.status.busy": "2022-05-31T07:02:56.648583Z",
     "iopub.status.idle": "2022-05-31T07:02:56.659174Z",
     "shell.execute_reply": "2022-05-31T07:02:56.657822Z"
    },
    "papermill": {
     "duration": 0.0192,
     "end_time": "2022-05-31T07:02:56.661557",
     "exception": false,
     "start_time": "2022-05-31T07:02:56.642357",
     "status": "completed"
    },
    "tags": []
   },
   "outputs": [
    {
     "data": {
      "application/javascript": [
       "parent.postMessage({\"jupyterEvent\": \"custom.exercise_interaction\", \"data\": {\"outcomeType\": 1, \"valueTowardsCompletion\": 0.25, \"interactionType\": 1, \"questionType\": 1, \"questionId\": \"3_CountMissingPrices\", \"learnToolsVersion\": \"0.3.4\", \"failureMessage\": \"\", \"exceptionClass\": \"\", \"trace\": \"\"}}, \"*\")"
      ],
      "text/plain": [
       "<IPython.core.display.Javascript object>"
      ]
     },
     "metadata": {},
     "output_type": "display_data"
    },
    {
     "data": {
      "text/markdown": [
       "<span style=\"color:#33cc33\">Correct</span>"
      ],
      "text/plain": [
       "Correct"
      ]
     },
     "metadata": {},
     "output_type": "display_data"
    }
   ],
   "source": [
    "n_missing_prices = reviews.price.isnull().sum()\n",
    "\n",
    "# Check your answer\n",
    "q3.check()"
   ]
  },
  {
   "cell_type": "code",
   "execution_count": 7,
   "id": "41512300",
   "metadata": {
    "execution": {
     "iopub.execute_input": "2022-05-31T07:02:56.674200Z",
     "iopub.status.busy": "2022-05-31T07:02:56.673698Z",
     "iopub.status.idle": "2022-05-31T07:02:56.681824Z",
     "shell.execute_reply": "2022-05-31T07:02:56.681179Z"
    },
    "papermill": {
     "duration": 0.017109,
     "end_time": "2022-05-31T07:02:56.684084",
     "exception": false,
     "start_time": "2022-05-31T07:02:56.666975",
     "status": "completed"
    },
    "tags": []
   },
   "outputs": [
    {
     "data": {
      "application/javascript": [
       "parent.postMessage({\"jupyterEvent\": \"custom.exercise_interaction\", \"data\": {\"interactionType\": 2, \"questionType\": 1, \"questionId\": \"3_CountMissingPrices\", \"learnToolsVersion\": \"0.3.4\", \"valueTowardsCompletion\": 0.0, \"failureMessage\": \"\", \"exceptionClass\": \"\", \"trace\": \"\", \"outcomeType\": 4}}, \"*\")"
      ],
      "text/plain": [
       "<IPython.core.display.Javascript object>"
      ]
     },
     "metadata": {},
     "output_type": "display_data"
    },
    {
     "data": {
      "text/markdown": [
       "<span style=\"color:#3366cc\">Hint:</span> Use `pd.isnull()`."
      ],
      "text/plain": [
       "Hint: Use `pd.isnull()`."
      ]
     },
     "metadata": {},
     "output_type": "display_data"
    }
   ],
   "source": [
    "q3.hint()\n",
    "#q3.solution()"
   ]
  },
  {
   "cell_type": "markdown",
   "id": "58a6dd50",
   "metadata": {
    "papermill": {
     "duration": 0.005033,
     "end_time": "2022-05-31T07:02:56.694577",
     "exception": false,
     "start_time": "2022-05-31T07:02:56.689544",
     "status": "completed"
    },
    "tags": []
   },
   "source": [
    "## 4.\n",
    "What are the most common wine-producing regions? Create a Series counting the number of times each value occurs in the `region_1` field. This field is often missing data, so replace missing values with `Unknown`. Sort in descending order.  Your output should look something like this:\n",
    "\n",
    "```\n",
    "Unknown                    21247\n",
    "Napa Valley                 4480\n",
    "                           ...  \n",
    "Bardolino Superiore            1\n",
    "Primitivo del Tarantino        1\n",
    "Name: region_1, Length: 1230, dtype: int64\n",
    "```"
   ]
  },
  {
   "cell_type": "code",
   "execution_count": 8,
   "id": "26b68e34",
   "metadata": {
    "execution": {
     "iopub.execute_input": "2022-05-31T07:02:56.707465Z",
     "iopub.status.busy": "2022-05-31T07:02:56.706438Z",
     "iopub.status.idle": "2022-05-31T07:02:56.850411Z",
     "shell.execute_reply": "2022-05-31T07:02:56.848839Z"
    },
    "papermill": {
     "duration": 0.153923,
     "end_time": "2022-05-31T07:02:56.853674",
     "exception": false,
     "start_time": "2022-05-31T07:02:56.699751",
     "status": "completed"
    },
    "tags": []
   },
   "outputs": [
    {
     "name": "stdout",
     "output_type": "stream",
     "text": [
      "Unknown                 21247\n",
      "Napa Valley              4480\n",
      "Columbia Valley (WA)     4124\n",
      "Russian River Valley     3091\n",
      "California               2629\n",
      "                        ...  \n",
      "Offida Rosso                1\n",
      "Corton Perrières            1\n",
      "Isle St. George             1\n",
      "Geelong                     1\n",
      "Paestum                     1\n",
      "Name: region_1, Length: 1230, dtype: int64\n"
     ]
    },
    {
     "data": {
      "application/javascript": [
       "parent.postMessage({\"jupyterEvent\": \"custom.exercise_interaction\", \"data\": {\"outcomeType\": 1, \"valueTowardsCompletion\": 0.25, \"interactionType\": 1, \"questionType\": 2, \"questionId\": \"4_ReviewsPerRegion\", \"learnToolsVersion\": \"0.3.4\", \"failureMessage\": \"\", \"exceptionClass\": \"\", \"trace\": \"\"}}, \"*\")"
      ],
      "text/plain": [
       "<IPython.core.display.Javascript object>"
      ]
     },
     "metadata": {},
     "output_type": "display_data"
    },
    {
     "data": {
      "text/markdown": [
       "<span style=\"color:#33cc33\">Correct</span>"
      ],
      "text/plain": [
       "Correct"
      ]
     },
     "metadata": {},
     "output_type": "display_data"
    }
   ],
   "source": [
    "reviews_per_region = reviews.fillna(\"Unknown\").region_1.value_counts().sort_values(ascending = False)\n",
    "print(reviews_per_region)\n",
    "# Check your answer\n",
    "q4.check()"
   ]
  },
  {
   "cell_type": "code",
   "execution_count": 9,
   "id": "2ea2339b",
   "metadata": {
    "execution": {
     "iopub.execute_input": "2022-05-31T07:02:56.875136Z",
     "iopub.status.busy": "2022-05-31T07:02:56.873970Z",
     "iopub.status.idle": "2022-05-31T07:02:56.887726Z",
     "shell.execute_reply": "2022-05-31T07:02:56.886558Z"
    },
    "papermill": {
     "duration": 0.026931,
     "end_time": "2022-05-31T07:02:56.890086",
     "exception": false,
     "start_time": "2022-05-31T07:02:56.863155",
     "status": "completed"
    },
    "tags": []
   },
   "outputs": [
    {
     "data": {
      "application/javascript": [
       "parent.postMessage({\"jupyterEvent\": \"custom.exercise_interaction\", \"data\": {\"interactionType\": 2, \"questionType\": 2, \"questionId\": \"4_ReviewsPerRegion\", \"learnToolsVersion\": \"0.3.4\", \"valueTowardsCompletion\": 0.0, \"failureMessage\": \"\", \"exceptionClass\": \"\", \"trace\": \"\", \"outcomeType\": 4}}, \"*\")"
      ],
      "text/plain": [
       "<IPython.core.display.Javascript object>"
      ]
     },
     "metadata": {},
     "output_type": "display_data"
    },
    {
     "data": {
      "text/markdown": [
       "<span style=\"color:#3366cc\">Hint:</span> Use `fillna()`, `value_counts()`, and `sort_values()`."
      ],
      "text/plain": [
       "Hint: Use `fillna()`, `value_counts()`, and `sort_values()`."
      ]
     },
     "metadata": {},
     "output_type": "display_data"
    },
    {
     "data": {
      "application/javascript": [
       "parent.postMessage({\"jupyterEvent\": \"custom.exercise_interaction\", \"data\": {\"interactionType\": 3, \"questionType\": 2, \"questionId\": \"4_ReviewsPerRegion\", \"learnToolsVersion\": \"0.3.4\", \"valueTowardsCompletion\": 0.0, \"failureMessage\": \"\", \"exceptionClass\": \"\", \"trace\": \"\", \"outcomeType\": 4}}, \"*\")"
      ],
      "text/plain": [
       "<IPython.core.display.Javascript object>"
      ]
     },
     "metadata": {},
     "output_type": "display_data"
    },
    {
     "data": {
      "text/markdown": [
       "<span style=\"color:#33cc99\">Solution:</span> \n",
       "```python\n",
       "reviews_per_region = reviews.region_1.fillna('Unknown').value_counts().sort_values(ascending=False)\n",
       "```"
      ],
      "text/plain": [
       "Solution: \n",
       "```python\n",
       "reviews_per_region = reviews.region_1.fillna('Unknown').value_counts().sort_values(ascending=False)\n",
       "```"
      ]
     },
     "metadata": {},
     "output_type": "display_data"
    }
   ],
   "source": [
    "q4.hint()\n",
    "q4.solution()"
   ]
  },
  {
   "cell_type": "markdown",
   "id": "68df8796",
   "metadata": {
    "papermill": {
     "duration": 0.005856,
     "end_time": "2022-05-31T07:02:56.902413",
     "exception": false,
     "start_time": "2022-05-31T07:02:56.896557",
     "status": "completed"
    },
    "tags": []
   },
   "source": [
    "# Keep going\n",
    "\n",
    "Move on to **[renaming and combining](https://www.kaggle.com/residentmario/renaming-and-combining)**."
   ]
  },
  {
   "cell_type": "markdown",
   "id": "f8aa4c57",
   "metadata": {
    "papermill": {
     "duration": 0.008929,
     "end_time": "2022-05-31T07:02:56.918396",
     "exception": false,
     "start_time": "2022-05-31T07:02:56.909467",
     "status": "completed"
    },
    "tags": []
   },
   "source": [
    "---\n",
    "\n",
    "\n",
    "\n",
    "\n",
    "*Have questions or comments? Visit the [course discussion forum](https://www.kaggle.com/learn/pandas/discussion) to chat with other learners.*"
   ]
  }
 ],
 "metadata": {
  "kernelspec": {
   "display_name": "Python 3",
   "language": "python",
   "name": "python3"
  },
  "language_info": {
   "codemirror_mode": {
    "name": "ipython",
    "version": 3
   },
   "file_extension": ".py",
   "mimetype": "text/x-python",
   "name": "python",
   "nbconvert_exporter": "python",
   "pygments_lexer": "ipython3",
   "version": "3.7.12"
  },
  "papermill": {
   "default_parameters": {},
   "duration": 17.484288,
   "end_time": "2022-05-31T07:02:57.952271",
   "environment_variables": {},
   "exception": null,
   "input_path": "__notebook__.ipynb",
   "output_path": "__notebook__.ipynb",
   "parameters": {},
   "start_time": "2022-05-31T07:02:40.467983",
   "version": "2.3.4"
  }
 },
 "nbformat": 4,
 "nbformat_minor": 5
}
